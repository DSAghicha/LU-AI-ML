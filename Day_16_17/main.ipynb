{
 "metadata": {
  "language_info": {
   "codemirror_mode": {
    "name": "ipython",
    "version": 3
   },
   "file_extension": ".py",
   "mimetype": "text/x-python",
   "name": "python",
   "nbconvert_exporter": "python",
   "pygments_lexer": "ipython3",
   "version": "3.9.5"
  },
  "orig_nbformat": 4,
  "kernelspec": {
   "name": "python3",
   "display_name": "Python 3.9.5 64-bit"
  },
  "interpreter": {
   "hash": "98c48560722b6f04fbdad6d56d402028edd5edd48f68ca23ac647c841b849345"
  }
 },
 "nbformat": 4,
 "nbformat_minor": 2,
 "cells": [
  {
   "cell_type": "code",
   "execution_count": 1,
   "metadata": {},
   "outputs": [],
   "source": [
    "import pandas as pd"
   ]
  },
  {
   "source": [
    "### Loading Datasets"
   ],
   "cell_type": "markdown",
   "metadata": {}
  },
  {
   "cell_type": "code",
   "execution_count": 2,
   "metadata": {},
   "outputs": [
    {
     "output_type": "execute_result",
     "data": {
      "text/plain": [
       "                  title  year\n",
       "0    Tasveer Mere Sanam  1996\n",
       "1              Only You  1994\n",
       "2  El pueblo del terror  1970\n",
       "3               Machine  2007\n",
       "4                  MARy  2008"
      ],
      "text/html": "<div>\n<style scoped>\n    .dataframe tbody tr th:only-of-type {\n        vertical-align: middle;\n    }\n\n    .dataframe tbody tr th {\n        vertical-align: top;\n    }\n\n    .dataframe thead th {\n        text-align: right;\n    }\n</style>\n<table border=\"1\" class=\"dataframe\">\n  <thead>\n    <tr style=\"text-align: right;\">\n      <th></th>\n      <th>title</th>\n      <th>year</th>\n    </tr>\n  </thead>\n  <tbody>\n    <tr>\n      <th>0</th>\n      <td>Tasveer Mere Sanam</td>\n      <td>1996</td>\n    </tr>\n    <tr>\n      <th>1</th>\n      <td>Only You</td>\n      <td>1994</td>\n    </tr>\n    <tr>\n      <th>2</th>\n      <td>El pueblo del terror</td>\n      <td>1970</td>\n    </tr>\n    <tr>\n      <th>3</th>\n      <td>Machine</td>\n      <td>2007</td>\n    </tr>\n    <tr>\n      <th>4</th>\n      <td>MARy</td>\n      <td>2008</td>\n    </tr>\n  </tbody>\n</table>\n</div>"
     },
     "metadata": {},
     "execution_count": 2
    }
   ],
   "source": [
    "titles = pd.read_csv('titles.csv')\n",
    "titles.head()"
   ]
  },
  {
   "source": [
    "### How many movies are listed in the titles dataframe?"
   ],
   "cell_type": "markdown",
   "metadata": {}
  },
  {
   "cell_type": "code",
   "execution_count": 4,
   "metadata": {},
   "outputs": [
    {
     "output_type": "stream",
     "name": "stdout",
     "text": [
      "There are 244914 movies listed in this dataframe.\n"
     ]
    }
   ],
   "source": [
    "print(f\"There are {len(titles)} movies listed in this dataframe.\")"
   ]
  },
  {
   "source": [
    "### What are the earliest two films listed in the titles dataframe?"
   ],
   "cell_type": "markdown",
   "metadata": {}
  },
  {
   "cell_type": "code",
   "execution_count": 26,
   "metadata": {},
   "outputs": [
    {
     "output_type": "stream",
     "name": "stdout",
     "text": [
      "The two earliest films are:\n1. Miss Jerry (1894)\n2. The Startled Lover (1898)\n"
     ]
    }
   ],
   "source": [
    "print(\"The two earliest films are:\")\n",
    "earliest_films = titles.sort_values('year').head(2)\n",
    "for i in range(len(earliest_films)):\n",
    "    print(f\"{i +1}. {earliest_films['title'].values[i]} ({earliest_films['year'].values[i]})\")\n",
    "\n"
   ]
  },
  {
   "source": [
    "### How many movies have the title \"Hamlet\"?"
   ],
   "cell_type": "markdown",
   "metadata": {}
  },
  {
   "cell_type": "code",
   "execution_count": 34,
   "metadata": {},
   "outputs": [
    {
     "output_type": "stream",
     "name": "stdout",
     "text": [
      "There are 20 movies that have the title 'Hamlet'.\n"
     ]
    }
   ],
   "source": [
    "print(f\"There are {len(titles[titles.title == 'Hamlet'])} movies that have the title 'Hamlet'.\")"
   ]
  },
  {
   "source": [
    "### How many movies are titled \"North by Northwest\"?"
   ],
   "cell_type": "markdown",
   "metadata": {}
  },
  {
   "cell_type": "code",
   "execution_count": 35,
   "metadata": {},
   "outputs": [
    {
     "output_type": "stream",
     "name": "stdout",
     "text": [
      "There are 1 movies that have the title 'North by Northwest'.\n"
     ]
    }
   ],
   "source": [
    "print(f\"There are {len(titles[titles.title == 'North by Northwest'])} movies that have the title 'North by Northwest'.\")"
   ]
  },
  {
   "source": [
    "### When was the first movie titled \"Hamlet\" made?"
   ],
   "cell_type": "markdown",
   "metadata": {}
  },
  {
   "cell_type": "code",
   "execution_count": 38,
   "metadata": {},
   "outputs": [],
   "source": [
    "year = str(titles[titles.title == 'Hamlet'].sort_values('year').head(1)['year'].values[0])"
   ]
  },
  {
   "cell_type": "code",
   "execution_count": 39,
   "metadata": {},
   "outputs": [
    {
     "output_type": "stream",
     "name": "stdout",
     "text": [
      "The first movie titled 'Hamlet' was made in 1910\n"
     ]
    }
   ],
   "source": [
    "print(\"The first movie titled 'Hamlet' was made in\", year)"
   ]
  },
  {
   "source": [
    "### List all of the \"Treasure Island\" movies from earliest to most recent."
   ],
   "cell_type": "markdown",
   "metadata": {}
  },
  {
   "cell_type": "code",
   "execution_count": 42,
   "metadata": {},
   "outputs": [
    {
     "output_type": "stream",
     "name": "stdout",
     "text": [
      "1. Treasure Island (1918)\n2. Treasure Island (1920)\n3. Treasure Island (1934)\n4. Treasure Island (1950)\n5. Treasure Island (1972)\n6. Treasure Island (1973)\n7. Treasure Island (1985)\n8. Treasure Island (1999)\n"
     ]
    }
   ],
   "source": [
    "treasure_island = titles[titles.title == 'Treasure Island'].sort_values('year')\n",
    "for i in range(len(treasure_island)):\n",
    "    print(f\"{i +1}. {treasure_island['title'].values[i]} ({treasure_island['year'].values[i]})\")\n"
   ]
  },
  {
   "source": [
    "### How many movies were made in the year 1950?"
   ],
   "cell_type": "markdown",
   "metadata": {}
  },
  {
   "cell_type": "code",
   "execution_count": 43,
   "metadata": {},
   "outputs": [
    {
     "output_type": "stream",
     "name": "stdout",
     "text": [
      "1113 movies were made in 1950.\n"
     ]
    }
   ],
   "source": [
    "print(len(titles[titles.year == 1950]), \"movies were made in 1950.\")"
   ]
  },
  {
   "source": [
    "### How many movies were made in the year 1960?"
   ],
   "cell_type": "markdown",
   "metadata": {}
  },
  {
   "cell_type": "code",
   "execution_count": 44,
   "metadata": {},
   "outputs": [
    {
     "output_type": "stream",
     "name": "stdout",
     "text": [
      "1549 movies were made in 1960.\n"
     ]
    }
   ],
   "source": [
    "print(len(titles[titles.year == 1960]), \"movies were made in 1960.\")"
   ]
  },
  {
   "cell_type": "code",
   "execution_count": 46,
   "metadata": {},
   "outputs": [
    {
     "output_type": "stream",
     "name": "stdout",
     "text": [
      "12934 movies were made from 1950 through 1959.\n"
     ]
    }
   ],
   "source": [
    "print(len(titles[titles.year.between(1950, 1959)]), \"movies were made from 1950 through 1959.\")"
   ]
  },
  {
   "source": [
    "### In what years has a movie titled \"Batman\" been released"
   ],
   "cell_type": "markdown",
   "metadata": {}
  },
  {
   "cell_type": "code",
   "execution_count": 49,
   "metadata": {},
   "outputs": [
    {
     "output_type": "stream",
     "name": "stdout",
     "text": [
      "'Batman' has been released in:\n1. 1943\n2. 1989\n"
     ]
    }
   ],
   "source": [
    "print(\"'Batman' has been released in:\")\n",
    "\n",
    "years = titles[titles.title == 'Batman'].sort_values('year')\n",
    "for i in range(len(years)):\n",
    "    print(f\"{i +1}. {years['year'].values[i]}\")\n"
   ]
  },
  {
   "source": [
    "### How many roles were there in the movie \"Inception\"?"
   ],
   "cell_type": "markdown",
   "metadata": {}
  }
 ]
}