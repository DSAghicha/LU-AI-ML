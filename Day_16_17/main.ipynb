{
 "metadata": {
  "language_info": {
   "codemirror_mode": {
    "name": "ipython",
    "version": 3
   },
   "file_extension": ".py",
   "mimetype": "text/x-python",
   "name": "python",
   "nbconvert_exporter": "python",
   "pygments_lexer": "ipython3",
   "version": "3.9.5"
  },
  "orig_nbformat": 4,
  "kernelspec": {
   "name": "python3",
   "display_name": "Python 3.9.5 64-bit"
  },
  "interpreter": {
   "hash": "98c48560722b6f04fbdad6d56d402028edd5edd48f68ca23ac647c841b849345"
  }
 },
 "nbformat": 4,
 "nbformat_minor": 2,
 "cells": [
  {
   "cell_type": "code",
   "execution_count": 1,
   "metadata": {},
   "outputs": [],
   "source": [
    "import pandas as pd"
   ]
  },
  {
   "source": [
    "### Loading Datasets"
   ],
   "cell_type": "markdown",
   "metadata": {}
  },
  {
   "cell_type": "code",
   "execution_count": 2,
   "metadata": {},
   "outputs": [
    {
     "output_type": "execute_result",
     "data": {
      "text/plain": [
       "                  title  year\n",
       "0    Tasveer Mere Sanam  1996\n",
       "1              Only You  1994\n",
       "2  El pueblo del terror  1970\n",
       "3               Machine  2007\n",
       "4                  MARy  2008"
      ],
      "text/html": "<div>\n<style scoped>\n    .dataframe tbody tr th:only-of-type {\n        vertical-align: middle;\n    }\n\n    .dataframe tbody tr th {\n        vertical-align: top;\n    }\n\n    .dataframe thead th {\n        text-align: right;\n    }\n</style>\n<table border=\"1\" class=\"dataframe\">\n  <thead>\n    <tr style=\"text-align: right;\">\n      <th></th>\n      <th>title</th>\n      <th>year</th>\n    </tr>\n  </thead>\n  <tbody>\n    <tr>\n      <th>0</th>\n      <td>Tasveer Mere Sanam</td>\n      <td>1996</td>\n    </tr>\n    <tr>\n      <th>1</th>\n      <td>Only You</td>\n      <td>1994</td>\n    </tr>\n    <tr>\n      <th>2</th>\n      <td>El pueblo del terror</td>\n      <td>1970</td>\n    </tr>\n    <tr>\n      <th>3</th>\n      <td>Machine</td>\n      <td>2007</td>\n    </tr>\n    <tr>\n      <th>4</th>\n      <td>MARy</td>\n      <td>2008</td>\n    </tr>\n  </tbody>\n</table>\n</div>"
     },
     "metadata": {},
     "execution_count": 2
    }
   ],
   "source": [
    "titles = pd.read_csv('titles.csv')\n",
    "titles.head()"
   ]
  },
  {
   "cell_type": "code",
   "execution_count": 3,
   "metadata": {},
   "outputs": [
    {
     "output_type": "execute_result",
     "data": {
      "text/plain": [
       "                  title  year      name   type                character     n\n",
       "0        Closet Monster  2015  Buffy #1  actor                  Buffy 4  31.0\n",
       "1       Suuri illusioni  1985    Homo $  actor                   Guests  22.0\n",
       "2   Battle of the Sexes  2017   $hutter  actor          Bobby Riggs Fan  10.0\n",
       "3  Secret in Their Eyes  2015   $hutter  actor          2002 Dodger Fan   NaN\n",
       "4            Steve Jobs  2015   $hutter  actor  1988 Opera House Patron   NaN"
      ],
      "text/html": "<div>\n<style scoped>\n    .dataframe tbody tr th:only-of-type {\n        vertical-align: middle;\n    }\n\n    .dataframe tbody tr th {\n        vertical-align: top;\n    }\n\n    .dataframe thead th {\n        text-align: right;\n    }\n</style>\n<table border=\"1\" class=\"dataframe\">\n  <thead>\n    <tr style=\"text-align: right;\">\n      <th></th>\n      <th>title</th>\n      <th>year</th>\n      <th>name</th>\n      <th>type</th>\n      <th>character</th>\n      <th>n</th>\n    </tr>\n  </thead>\n  <tbody>\n    <tr>\n      <th>0</th>\n      <td>Closet Monster</td>\n      <td>2015</td>\n      <td>Buffy #1</td>\n      <td>actor</td>\n      <td>Buffy 4</td>\n      <td>31.0</td>\n    </tr>\n    <tr>\n      <th>1</th>\n      <td>Suuri illusioni</td>\n      <td>1985</td>\n      <td>Homo $</td>\n      <td>actor</td>\n      <td>Guests</td>\n      <td>22.0</td>\n    </tr>\n    <tr>\n      <th>2</th>\n      <td>Battle of the Sexes</td>\n      <td>2017</td>\n      <td>$hutter</td>\n      <td>actor</td>\n      <td>Bobby Riggs Fan</td>\n      <td>10.0</td>\n    </tr>\n    <tr>\n      <th>3</th>\n      <td>Secret in Their Eyes</td>\n      <td>2015</td>\n      <td>$hutter</td>\n      <td>actor</td>\n      <td>2002 Dodger Fan</td>\n      <td>NaN</td>\n    </tr>\n    <tr>\n      <th>4</th>\n      <td>Steve Jobs</td>\n      <td>2015</td>\n      <td>$hutter</td>\n      <td>actor</td>\n      <td>1988 Opera House Patron</td>\n      <td>NaN</td>\n    </tr>\n  </tbody>\n</table>\n</div>"
     },
     "metadata": {},
     "execution_count": 3
    }
   ],
   "source": [
    "casts = pd.read_csv('cast.csv')\n",
    "casts.head()"
   ]
  },
  {
   "source": [
    "### How many movies are listed in the titles dataframe?"
   ],
   "cell_type": "markdown",
   "metadata": {}
  },
  {
   "cell_type": "code",
   "execution_count": 4,
   "metadata": {},
   "outputs": [
    {
     "output_type": "stream",
     "name": "stdout",
     "text": [
      "There are 244914 movies listed in this dataframe.\n"
     ]
    }
   ],
   "source": [
    "print(f\"There are {len(titles)} movies listed in this dataframe.\")"
   ]
  },
  {
   "source": [
    "### What are the earliest two films listed in the titles dataframe?"
   ],
   "cell_type": "markdown",
   "metadata": {}
  },
  {
   "cell_type": "code",
   "execution_count": 5,
   "metadata": {},
   "outputs": [
    {
     "output_type": "stream",
     "name": "stdout",
     "text": [
      "The two earliest films are:\n1. Miss Jerry (1894)\n2. The Startled Lover (1898)\n"
     ]
    }
   ],
   "source": [
    "print(\"The two earliest films are:\")\n",
    "earliest_films = titles.sort_values('year').head(2)\n",
    "for i in range(len(earliest_films)):\n",
    "    print(f\"{i +1}. {earliest_films['title'].values[i]} ({earliest_films['year'].values[i]})\")\n",
    "\n"
   ]
  },
  {
   "source": [
    "### How many movies have the title \"Hamlet\"?"
   ],
   "cell_type": "markdown",
   "metadata": {}
  },
  {
   "cell_type": "code",
   "execution_count": 6,
   "metadata": {},
   "outputs": [
    {
     "output_type": "stream",
     "name": "stdout",
     "text": [
      "There are 20 movies that have the title 'Hamlet'.\n"
     ]
    }
   ],
   "source": [
    "print(f\"There are {len(titles[titles.title == 'Hamlet'])} movies that have the title 'Hamlet'.\")"
   ]
  },
  {
   "source": [
    "### How many movies are titled \"North by Northwest\"?"
   ],
   "cell_type": "markdown",
   "metadata": {}
  },
  {
   "cell_type": "code",
   "execution_count": 7,
   "metadata": {},
   "outputs": [
    {
     "output_type": "stream",
     "name": "stdout",
     "text": [
      "There are 1 movies that have the title 'North by Northwest'.\n"
     ]
    }
   ],
   "source": [
    "print(f\"There are {len(titles[titles.title == 'North by Northwest'])} movies that have the title 'North by Northwest'.\")"
   ]
  },
  {
   "source": [
    "### When was the first movie titled \"Hamlet\" made?"
   ],
   "cell_type": "markdown",
   "metadata": {}
  },
  {
   "cell_type": "code",
   "execution_count": 8,
   "metadata": {},
   "outputs": [],
   "source": [
    "year = str(titles[titles.title == 'Hamlet'].sort_values('year').head(1)['year'].values[0])"
   ]
  },
  {
   "cell_type": "code",
   "execution_count": 9,
   "metadata": {},
   "outputs": [
    {
     "output_type": "stream",
     "name": "stdout",
     "text": [
      "The first movie titled 'Hamlet' was made in 1910\n"
     ]
    }
   ],
   "source": [
    "print(\"The first movie titled 'Hamlet' was made in\", year)"
   ]
  },
  {
   "source": [
    "### List all of the \"Treasure Island\" movies from earliest to most recent."
   ],
   "cell_type": "markdown",
   "metadata": {}
  },
  {
   "cell_type": "code",
   "execution_count": 10,
   "metadata": {},
   "outputs": [
    {
     "output_type": "stream",
     "name": "stdout",
     "text": [
      "1. Treasure Island (1918)\n2. Treasure Island (1920)\n3. Treasure Island (1934)\n4. Treasure Island (1950)\n5. Treasure Island (1972)\n6. Treasure Island (1973)\n7. Treasure Island (1985)\n8. Treasure Island (1999)\n"
     ]
    }
   ],
   "source": [
    "treasure_island = titles[titles.title == 'Treasure Island'].sort_values('year')\n",
    "for i in range(len(treasure_island)):\n",
    "    print(f\"{i +1}. {treasure_island['title'].values[i]} ({treasure_island['year'].values[i]})\")\n"
   ]
  },
  {
   "source": [
    "### How many movies were made in the year 1950?"
   ],
   "cell_type": "markdown",
   "metadata": {}
  },
  {
   "cell_type": "code",
   "execution_count": 11,
   "metadata": {},
   "outputs": [
    {
     "output_type": "stream",
     "name": "stdout",
     "text": [
      "1113 movies were made in 1950.\n"
     ]
    }
   ],
   "source": [
    "print(len(titles[titles.year == 1950]), \"movies were made in 1950.\")"
   ]
  },
  {
   "source": [
    "### How many movies were made in the year 1960?"
   ],
   "cell_type": "markdown",
   "metadata": {}
  },
  {
   "cell_type": "code",
   "execution_count": 12,
   "metadata": {},
   "outputs": [
    {
     "output_type": "stream",
     "name": "stdout",
     "text": [
      "1549 movies were made in 1960.\n"
     ]
    }
   ],
   "source": [
    "print(len(titles[titles.year == 1960]), \"movies were made in 1960.\")"
   ]
  },
  {
   "cell_type": "code",
   "execution_count": 13,
   "metadata": {},
   "outputs": [
    {
     "output_type": "stream",
     "name": "stdout",
     "text": [
      "12934 movies were made from 1950 through 1959.\n"
     ]
    }
   ],
   "source": [
    "print(len(titles[titles.year.between(1950, 1959)]), \"movies were made from 1950 through 1959.\")"
   ]
  },
  {
   "source": [
    "### In what years has a movie titled \"Batman\" been released"
   ],
   "cell_type": "markdown",
   "metadata": {}
  },
  {
   "cell_type": "code",
   "execution_count": 14,
   "metadata": {},
   "outputs": [
    {
     "output_type": "stream",
     "name": "stdout",
     "text": [
      "'Batman' has been released in:\n1. 1943\n2. 1989\n"
     ]
    }
   ],
   "source": [
    "print(\"'Batman' has been released in:\")\n",
    "\n",
    "years = titles[titles.title == 'Batman'].sort_values('year')\n",
    "for i in range(len(years)):\n",
    "    print(f\"{i +1}. {years['year'].values[i]}\")\n"
   ]
  },
  {
   "source": [
    "### How many roles were there in the movie \"Inception\"?"
   ],
   "cell_type": "markdown",
   "metadata": {}
  },
  {
   "cell_type": "code",
   "execution_count": 15,
   "metadata": {},
   "outputs": [
    {
     "output_type": "stream",
     "name": "stdout",
     "text": [
      "There were 28 roles in 'Inception'.\n"
     ]
    }
   ],
   "source": [
    "print(f\"There were {len(casts[casts.title == 'Inception'])} roles in 'Inception'.\")"
   ]
  },
  {
   "source": [
    "### How many roles in the movie \"Inception\" are NOT ranked by an \"n\" value?"
   ],
   "cell_type": "markdown",
   "metadata": {}
  },
  {
   "cell_type": "code",
   "execution_count": 16,
   "metadata": {},
   "outputs": [
    {
     "output_type": "stream",
     "name": "stdout",
     "text": [
      "9 roles in the movie \"Inception\" are NOT ranked by an \"n\" value\n"
     ]
    }
   ],
   "source": [
    "print(len(casts[(casts.title == 'Inception') & (casts['n'].isna())]), 'roles in the movie \"Inception\" are NOT ranked by an \"n\" value')"
   ]
  },
  {
   "source": [
    "### But how many roles in the movie \"Inception\" did receive an \"n\" value?"
   ],
   "cell_type": "markdown",
   "metadata": {}
  },
  {
   "cell_type": "code",
   "execution_count": 17,
   "metadata": {},
   "outputs": [
    {
     "output_type": "stream",
     "name": "stdout",
     "text": [
      "19 roles in the movie \"Inception\" are ranked by an \"n\" value\n"
     ]
    }
   ],
   "source": [
    "print(len(casts[(casts.title == 'Inception') & (casts['n'].notna())]), 'roles in the movie \"Inception\" are ranked by an \"n\" value')"
   ]
  },
  {
   "source": [
    "### Display the cast of \"North by Northwest\" in their correct \"n\"-value order, ignoring roles that did not earn a numeric \"n\" value."
   ],
   "cell_type": "markdown",
   "metadata": {}
  },
  {
   "cell_type": "code",
   "execution_count": 18,
   "metadata": {},
   "outputs": [
    {
     "output_type": "execute_result",
     "data": {
      "text/plain": [
       "                     title  year               name   type  \\\n",
       "871426  North by Northwest  1959         Cary Grant  actor   \n",
       "356707  North by Northwest  1959     Leo G. Carroll  actor   \n",
       "665768  North by Northwest  1959  Robert Ellenstein  actor   \n",
       "464736  North by Northwest  1959    Philip Coolidge  actor   \n",
       "206471  North by Northwest  1959       Edward Binns  actor   \n",
       "\n",
       "                 character     n  \n",
       "871426  Roger O. Thornhill   1.0  \n",
       "356707       The Professor   5.0  \n",
       "665768               Licht  11.0  \n",
       "464736           Dr. Cross  13.0  \n",
       "206471      Captain Junket  15.0  "
      ],
      "text/html": "<div>\n<style scoped>\n    .dataframe tbody tr th:only-of-type {\n        vertical-align: middle;\n    }\n\n    .dataframe tbody tr th {\n        vertical-align: top;\n    }\n\n    .dataframe thead th {\n        text-align: right;\n    }\n</style>\n<table border=\"1\" class=\"dataframe\">\n  <thead>\n    <tr style=\"text-align: right;\">\n      <th></th>\n      <th>title</th>\n      <th>year</th>\n      <th>name</th>\n      <th>type</th>\n      <th>character</th>\n      <th>n</th>\n    </tr>\n  </thead>\n  <tbody>\n    <tr>\n      <th>871426</th>\n      <td>North by Northwest</td>\n      <td>1959</td>\n      <td>Cary Grant</td>\n      <td>actor</td>\n      <td>Roger O. Thornhill</td>\n      <td>1.0</td>\n    </tr>\n    <tr>\n      <th>356707</th>\n      <td>North by Northwest</td>\n      <td>1959</td>\n      <td>Leo G. Carroll</td>\n      <td>actor</td>\n      <td>The Professor</td>\n      <td>5.0</td>\n    </tr>\n    <tr>\n      <th>665768</th>\n      <td>North by Northwest</td>\n      <td>1959</td>\n      <td>Robert Ellenstein</td>\n      <td>actor</td>\n      <td>Licht</td>\n      <td>11.0</td>\n    </tr>\n    <tr>\n      <th>464736</th>\n      <td>North by Northwest</td>\n      <td>1959</td>\n      <td>Philip Coolidge</td>\n      <td>actor</td>\n      <td>Dr. Cross</td>\n      <td>13.0</td>\n    </tr>\n    <tr>\n      <th>206471</th>\n      <td>North by Northwest</td>\n      <td>1959</td>\n      <td>Edward Binns</td>\n      <td>actor</td>\n      <td>Captain Junket</td>\n      <td>15.0</td>\n    </tr>\n  </tbody>\n</table>\n</div>"
     },
     "metadata": {},
     "execution_count": 18
    }
   ],
   "source": [
    "casts[(casts.title == 'North by Northwest') & casts.n.notnull()].sort_values('n')"
   ]
  },
  {
   "source": [
    "### Display the entire cast, in \"n\"-order, of the 1972 film \"Sleuth\"."
   ],
   "cell_type": "markdown",
   "metadata": {}
  },
  {
   "cell_type": "code",
   "execution_count": 19,
   "metadata": {},
   "outputs": [
    {
     "output_type": "execute_result",
     "data": {
      "text/plain": [
       "         title  year            name   type          character    n\n",
       "326773  Sleuth  1972   Michael Caine  actor        Milo Tindle  2.0\n",
       "373876  Sleuth  1972  Alec Cawthorne  actor  Inspector Doppler  3.0"
      ],
      "text/html": "<div>\n<style scoped>\n    .dataframe tbody tr th:only-of-type {\n        vertical-align: middle;\n    }\n\n    .dataframe tbody tr th {\n        vertical-align: top;\n    }\n\n    .dataframe thead th {\n        text-align: right;\n    }\n</style>\n<table border=\"1\" class=\"dataframe\">\n  <thead>\n    <tr style=\"text-align: right;\">\n      <th></th>\n      <th>title</th>\n      <th>year</th>\n      <th>name</th>\n      <th>type</th>\n      <th>character</th>\n      <th>n</th>\n    </tr>\n  </thead>\n  <tbody>\n    <tr>\n      <th>326773</th>\n      <td>Sleuth</td>\n      <td>1972</td>\n      <td>Michael Caine</td>\n      <td>actor</td>\n      <td>Milo Tindle</td>\n      <td>2.0</td>\n    </tr>\n    <tr>\n      <th>373876</th>\n      <td>Sleuth</td>\n      <td>1972</td>\n      <td>Alec Cawthorne</td>\n      <td>actor</td>\n      <td>Inspector Doppler</td>\n      <td>3.0</td>\n    </tr>\n  </tbody>\n</table>\n</div>"
     },
     "metadata": {},
     "execution_count": 19
    }
   ],
   "source": [
    "casts[(casts.title == 'Sleuth') & (casts.year == 1972)].sort_values('n')"
   ]
  },
  {
   "source": [
    "### Now display the entire cast, in \"n\"-order, of the 2007 version of \"Sleuth\"."
   ],
   "cell_type": "markdown",
   "metadata": {}
  },
  {
   "cell_type": "code",
   "execution_count": 20,
   "metadata": {},
   "outputs": [
    {
     "output_type": "execute_result",
     "data": {
      "text/plain": [
       "         title  year                 name   type          character    n\n",
       "326774  Sleuth  2007        Michael Caine  actor             Andrew  1.0\n",
       "260242  Sleuth  2007      Kenneth Branagh  actor  Other Man on T.V.  NaN\n",
       "373877  Sleuth  2007  Alec (II) Cawthorne  actor  Inspector Doppler  NaN"
      ],
      "text/html": "<div>\n<style scoped>\n    .dataframe tbody tr th:only-of-type {\n        vertical-align: middle;\n    }\n\n    .dataframe tbody tr th {\n        vertical-align: top;\n    }\n\n    .dataframe thead th {\n        text-align: right;\n    }\n</style>\n<table border=\"1\" class=\"dataframe\">\n  <thead>\n    <tr style=\"text-align: right;\">\n      <th></th>\n      <th>title</th>\n      <th>year</th>\n      <th>name</th>\n      <th>type</th>\n      <th>character</th>\n      <th>n</th>\n    </tr>\n  </thead>\n  <tbody>\n    <tr>\n      <th>326774</th>\n      <td>Sleuth</td>\n      <td>2007</td>\n      <td>Michael Caine</td>\n      <td>actor</td>\n      <td>Andrew</td>\n      <td>1.0</td>\n    </tr>\n    <tr>\n      <th>260242</th>\n      <td>Sleuth</td>\n      <td>2007</td>\n      <td>Kenneth Branagh</td>\n      <td>actor</td>\n      <td>Other Man on T.V.</td>\n      <td>NaN</td>\n    </tr>\n    <tr>\n      <th>373877</th>\n      <td>Sleuth</td>\n      <td>2007</td>\n      <td>Alec (II) Cawthorne</td>\n      <td>actor</td>\n      <td>Inspector Doppler</td>\n      <td>NaN</td>\n    </tr>\n  </tbody>\n</table>\n</div>"
     },
     "metadata": {},
     "execution_count": 20
    }
   ],
   "source": [
    "casts[(casts.title == 'Sleuth') & (casts.year == 2007)].sort_values('n')"
   ]
  },
  {
   "source": [
    "### How many roles were credited in the silent 1921 version of Hamlet?"
   ],
   "cell_type": "markdown",
   "metadata": {}
  },
  {
   "cell_type": "code",
   "execution_count": 21,
   "metadata": {},
   "outputs": [
    {
     "output_type": "stream",
     "name": "stdout",
     "text": [
      "3 roles were credited in the silent 1921 version of Hamlet\n"
     ]
    }
   ],
   "source": [
    "print(len(casts[(casts.title == 'Hamlet') & (casts.year == 1921)]), \"roles were credited in the silent 1921 version of Hamlet\")"
   ]
  },
  {
   "source": [
    "### How many roles were credited in Branagh’s 1996 Hamlet?"
   ],
   "cell_type": "markdown",
   "metadata": {}
  },
  {
   "cell_type": "code",
   "execution_count": 22,
   "metadata": {},
   "outputs": [
    {
     "output_type": "stream",
     "name": "stdout",
     "text": [
      "22 roles were credited in Branagh’s 1996 Hamlet\n"
     ]
    }
   ],
   "source": [
    "print(len(casts[(casts.title == 'Hamlet') & (casts.year == 1996)]), \"roles were credited in Branagh’s 1996 Hamlet\")"
   ]
  },
  {
   "source": [
    "### How many \"Hamlet\" roles have been listed in all film credits through history?"
   ],
   "cell_type": "markdown",
   "metadata": {}
  },
  {
   "cell_type": "code",
   "execution_count": 23,
   "metadata": {},
   "outputs": [
    {
     "output_type": "stream",
     "name": "stdout",
     "text": [
      "117 'Hamlet' roles have been listed in all film credits through history\n"
     ]
    }
   ],
   "source": [
    "print(len(casts[casts.title == 'Hamlet']), \"'Hamlet' roles have been listed in all film credits through history\")"
   ]
  },
  {
   "source": [
    "### How many people have played an \"Ophelia\"?"
   ],
   "cell_type": "markdown",
   "metadata": {}
  },
  {
   "cell_type": "code",
   "execution_count": 24,
   "metadata": {},
   "outputs": [
    {
     "output_type": "stream",
     "name": "stdout",
     "text": [
      "4 people have played \"Ophelia\".\n"
     ]
    }
   ],
   "source": [
    "print(len(casts[casts.character == \"Ophelia\"]), 'people have played \"Ophelia\".')"
   ]
  },
  {
   "source": [
    "### How many people have played a role called \"The Dude\"?"
   ],
   "cell_type": "markdown",
   "metadata": {}
  },
  {
   "cell_type": "code",
   "execution_count": 25,
   "metadata": {},
   "outputs": [
    {
     "output_type": "stream",
     "name": "stdout",
     "text": [
      "7 people have played \"The Dude\".\n"
     ]
    }
   ],
   "source": [
    "print(len(casts[casts.character == \"The Dude\"]), 'people have played \"The Dude\".')"
   ]
  },
  {
   "source": [
    "### How many people have played a role called \"The Stranger\"?"
   ],
   "cell_type": "markdown",
   "metadata": {}
  },
  {
   "cell_type": "code",
   "execution_count": 26,
   "metadata": {},
   "outputs": [
    {
     "output_type": "stream",
     "name": "stdout",
     "text": [
      "84 people have played \"The Stranger\".\n"
     ]
    }
   ],
   "source": [
    "print(len(casts[casts.character == \"The Stranger\"]), 'people have played \"The Stranger\".')"
   ]
  },
  {
   "source": [
    "### How many roles has Sidney Poitier played throughout his career?"
   ],
   "cell_type": "markdown",
   "metadata": {}
  },
  {
   "cell_type": "code",
   "execution_count": 27,
   "metadata": {},
   "outputs": [
    {
     "output_type": "stream",
     "name": "stdout",
     "text": [
      "1 roles Sidney Poitier has played throughout his career\n"
     ]
    }
   ],
   "source": [
    "print(len(casts[casts.character == 'Sidney Poitier']), \"roles Sidney Poitier has played throughout his career\")"
   ]
  },
  {
   "source": [
    "### How many roles has Judi Dench played?"
   ],
   "cell_type": "markdown",
   "metadata": {}
  },
  {
   "cell_type": "code",
   "execution_count": 28,
   "metadata": {},
   "outputs": [
    {
     "output_type": "stream",
     "name": "stdout",
     "text": [
      "0 roles Judi Dench has played\n"
     ]
    }
   ],
   "source": [
    "print(len(casts[casts.name == 'Judi Dench']), \"roles Judi Dench has played\")"
   ]
  },
  {
   "source": [
    "### List the supporting roles (having n=2) played by Cary Grant in the 1940s, in order by year."
   ],
   "cell_type": "markdown",
   "metadata": {}
  },
  {
   "cell_type": "code",
   "execution_count": 29,
   "metadata": {},
   "outputs": [
    {
     "output_type": "execute_result",
     "data": {
      "text/plain": [
       "                   title  year        name   type   character    n\n",
       "871423  My Favorite Wife  1940  Cary Grant  actor  Nick Arden  2.0"
      ],
      "text/html": "<div>\n<style scoped>\n    .dataframe tbody tr th:only-of-type {\n        vertical-align: middle;\n    }\n\n    .dataframe tbody tr th {\n        vertical-align: top;\n    }\n\n    .dataframe thead th {\n        text-align: right;\n    }\n</style>\n<table border=\"1\" class=\"dataframe\">\n  <thead>\n    <tr style=\"text-align: right;\">\n      <th></th>\n      <th>title</th>\n      <th>year</th>\n      <th>name</th>\n      <th>type</th>\n      <th>character</th>\n      <th>n</th>\n    </tr>\n  </thead>\n  <tbody>\n    <tr>\n      <th>871423</th>\n      <td>My Favorite Wife</td>\n      <td>1940</td>\n      <td>Cary Grant</td>\n      <td>actor</td>\n      <td>Nick Arden</td>\n      <td>2.0</td>\n    </tr>\n  </tbody>\n</table>\n</div>"
     },
     "metadata": {},
     "execution_count": 29
    }
   ],
   "source": [
    "casts[(casts.name == 'Cary Grant') & (casts.year == 1940) & (casts.n == 2) ]"
   ]
  },
  {
   "source": [
    "### List the leading roles that Cary Grant played in the 1940s in order by year."
   ],
   "cell_type": "markdown",
   "metadata": {}
  },
  {
   "cell_type": "code",
   "execution_count": 30,
   "metadata": {},
   "outputs": [
    {
     "output_type": "execute_result",
     "data": {
      "text/plain": [
       "                          title  year        name   type           character  \\\n",
       "871407          His Girl Friday  1940  Cary Grant  actor        Walter Burns   \n",
       "871448  The Howards of Virginia  1940  Cary Grant  actor         Matt Howard   \n",
       "871450   The Philadelphia Story  1940  Cary Grant  actor  C. K. Dexter Haven   \n",
       "\n",
       "          n  \n",
       "871407  1.0  \n",
       "871448  1.0  \n",
       "871450  1.0  "
      ],
      "text/html": "<div>\n<style scoped>\n    .dataframe tbody tr th:only-of-type {\n        vertical-align: middle;\n    }\n\n    .dataframe tbody tr th {\n        vertical-align: top;\n    }\n\n    .dataframe thead th {\n        text-align: right;\n    }\n</style>\n<table border=\"1\" class=\"dataframe\">\n  <thead>\n    <tr style=\"text-align: right;\">\n      <th></th>\n      <th>title</th>\n      <th>year</th>\n      <th>name</th>\n      <th>type</th>\n      <th>character</th>\n      <th>n</th>\n    </tr>\n  </thead>\n  <tbody>\n    <tr>\n      <th>871407</th>\n      <td>His Girl Friday</td>\n      <td>1940</td>\n      <td>Cary Grant</td>\n      <td>actor</td>\n      <td>Walter Burns</td>\n      <td>1.0</td>\n    </tr>\n    <tr>\n      <th>871448</th>\n      <td>The Howards of Virginia</td>\n      <td>1940</td>\n      <td>Cary Grant</td>\n      <td>actor</td>\n      <td>Matt Howard</td>\n      <td>1.0</td>\n    </tr>\n    <tr>\n      <th>871450</th>\n      <td>The Philadelphia Story</td>\n      <td>1940</td>\n      <td>Cary Grant</td>\n      <td>actor</td>\n      <td>C. K. Dexter Haven</td>\n      <td>1.0</td>\n    </tr>\n  </tbody>\n</table>\n</div>"
     },
     "metadata": {},
     "execution_count": 30
    }
   ],
   "source": [
    "casts[(casts.name == 'Cary Grant') & (casts.year == 1940) & (casts.n == 1)]"
   ]
  },
  {
   "source": [
    "### How many roles were available for actors in the 1950s?"
   ],
   "cell_type": "markdown",
   "metadata": {}
  },
  {
   "cell_type": "code",
   "execution_count": 31,
   "metadata": {},
   "outputs": [
    {
     "output_type": "stream",
     "name": "stdout",
     "text": [
      "7289 roles were available for actors in the 1950s.\n"
     ]
    }
   ],
   "source": [
    "print(len(casts[(casts.year == 1950) & (casts.type == 'actor')]), \"roles were available for actors in the 1950s.\")"
   ]
  },
  {
   "source": [
    "### How many roles were available for actresses in the 1950s?"
   ],
   "cell_type": "markdown",
   "metadata": {}
  },
  {
   "cell_type": "code",
   "execution_count": 32,
   "metadata": {},
   "outputs": [
    {
     "output_type": "stream",
     "name": "stdout",
     "text": [
      "0 roles were available for actors in the 1950s.\n"
     ]
    }
   ],
   "source": [
    "print(len(casts[(casts.year == 1950) & (casts.type == 'actress')]), \"roles were available for actors in the 1950s.\")"
   ]
  },
  {
   "source": [
    "### How many leading roles (n=1) were available from the beginning of film history through 1980?"
   ],
   "cell_type": "markdown",
   "metadata": {}
  },
  {
   "cell_type": "code",
   "execution_count": 33,
   "metadata": {},
   "outputs": [
    {
     "output_type": "stream",
     "name": "stdout",
     "text": [
      "18588 leading roles were available from the beginning of film history through 1980.\n"
     ]
    }
   ],
   "source": [
    "print(len(casts[(casts.n == 1) & (casts.year <= 1980)]), \"leading roles were available from the beginning of film history through 1980.\")"
   ]
  },
  {
   "source": [
    "### How many non-leading roles were available through from the beginning of film history through 1980?"
   ],
   "cell_type": "markdown",
   "metadata": {}
  },
  {
   "cell_type": "code",
   "execution_count": 34,
   "metadata": {},
   "outputs": [
    {
     "output_type": "stream",
     "name": "stdout",
     "text": [
      "346128 non-leading roles were available from the beginning of film history through 1980.\n"
     ]
    }
   ],
   "source": [
    "print(len(casts[(casts.n != 1) & (casts.year <= 1980)]), \"non-leading roles were available from the beginning of film history through 1980.\")"
   ]
  },
  {
   "source": [
    "### How many roles through 1980 were minor enough that they did not warrant a numeric \"n\" rank?"
   ],
   "cell_type": "markdown",
   "metadata": {}
  },
  {
   "cell_type": "code",
   "execution_count": 35,
   "metadata": {},
   "outputs": [
    {
     "output_type": "stream",
     "name": "stdout",
     "text": [
      "1251 roles through 1980 were minor enough that they did not warrant a numeric 'n' rank.\n"
     ]
    }
   ],
   "source": [
    "print(len(casts[(casts.n.isna()) & (casts.year == 1980)]), \"roles through 1980 were minor enough that they did not warrant a numeric 'n' rank.\")"
   ]
  }
 ]
}