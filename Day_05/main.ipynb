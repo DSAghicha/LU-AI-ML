{
 "metadata": {
  "language_info": {
   "codemirror_mode": {
    "name": "ipython",
    "version": 3
   },
   "file_extension": ".py",
   "mimetype": "text/x-python",
   "name": "python",
   "nbconvert_exporter": "python",
   "pygments_lexer": "ipython3",
   "version": "3.9.5"
  },
  "orig_nbformat": 4,
  "kernelspec": {
   "name": "python3",
   "display_name": "Python 3.9.5 64-bit"
  },
  "interpreter": {
   "hash": "98c48560722b6f04fbdad6d56d402028edd5edd48f68ca23ac647c841b849345"
  }
 },
 "nbformat": 4,
 "nbformat_minor": 2,
 "cells": [
  {
   "source": [
    "# Assignment 05"
   ],
   "cell_type": "markdown",
   "metadata": {}
  },
  {
   "source": [
    "### For Questions refer [README](https://github.com/DSAghicha/LU-AI-ML/blob/main/Day_05/README.md)"
   ],
   "cell_type": "markdown",
   "metadata": {}
  },
  {
   "source": [
    "## Question 1"
   ],
   "cell_type": "markdown",
   "metadata": {}
  },
  {
   "cell_type": "code",
   "execution_count": 1,
   "metadata": {},
   "outputs": [
    {
     "output_type": "stream",
     "name": "stdout",
     "text": [
      "3\n5\n7\n11\n13\n17\n19\n23\n29\n31\n"
     ]
    }
   ],
   "source": [
    "for num in range(3, 32):\n",
    "    for i in range(2, num):\n",
    "        if num % i == 0:\n",
    "            break\n",
    "    else:\n",
    "         print(num)"
   ]
  },
  {
   "source": [
    "## Question 2"
   ],
   "cell_type": "markdown",
   "metadata": {}
  },
  {
   "cell_type": "code",
   "execution_count": 2,
   "metadata": {},
   "outputs": [],
   "source": [
    "my_string: str = \"hi, i am programming in python language\""
   ]
  },
  {
   "cell_type": "code",
   "execution_count": 3,
   "metadata": {},
   "outputs": [
    {
     "output_type": "stream",
     "name": "stdout",
     "text": [
      "1.  Hi, i am programming in python language\n2.                                hi, i am programming in python language                               \n3.  True\n3.  False\n4. hi, i am programming in python language\n5. HI, I AM PROGRAMMING IN PYTHON LANGUAGE\n6. Hi, I Am Programming In Python Language\n7. hi, i am programming in python language : hi, i am writing in python language\n8. 39\n9. ['hi,', 'i', 'am', 'programming', 'in', 'python', 'language']\n10. hi, i am programming in python language\n11. True\n12. False\n13. False\n14. False\n15. 38\n15. -1\n"
     ]
    }
   ],
   "source": [
    "print(\"1. \", my_string.capitalize())\n",
    "print(\"2. \", my_string.center(100))\n",
    "print(\"3. \", my_string.endswith(\"e\"))\n",
    "print(\"3. \", my_string.endswith(\"z\"))\n",
    "print(\"4. {}\".format(my_string))\n",
    "print(\"5. {}\".format(my_string.upper()))\n",
    "print(\"6. {}\".format(my_string.title()))\n",
    "print(\"7. {} : {}\".format(my_string, my_string.replace(\"programming\", \"writing\")))\n",
    "print(\"8. {}\".format(len(my_string)))\n",
    "print(\"9. {}\".format(my_string.split()))\n",
    "print(\"10. {}\".format(my_string.lower()))\n",
    "print(\"11. {}\".format('def'.isidentifier()))\n",
    "print(\"12. {}\".format(my_string.isnumeric()))\n",
    "print(\"13. {}\".format(my_string.isspace()))\n",
    "print(\"14. {}\".format(my_string.isdigit()))\n",
    "print(\"15. {}\".format(my_string.find('e')))\n",
    "print(\"15. {}\".format(my_string.find('e', 1, 10)))"
   ]
  },
  {
   "source": [
    "## Question 3"
   ],
   "cell_type": "markdown",
   "metadata": {}
  },
  {
   "source": [
    "### A palindrome is a word, number, phrase, or other sequence of characters which reads the same backward as forward"
   ],
   "cell_type": "markdown",
   "metadata": {}
  },
  {
   "cell_type": "code",
   "execution_count": 4,
   "metadata": {},
   "outputs": [
    {
     "output_type": "stream",
     "name": "stdout",
     "text": [
      "'radar' is a Palindrome.\n"
     ]
    }
   ],
   "source": [
    "s: str = input()\n",
    "if s == s[::-1]:\n",
    "    print(\"'{}' is a Palindrome.\".format(s))\n",
    "else:\n",
    "    print(\"'{}' is not a Palindrome.\".format(s))"
   ]
  },
  {
   "source": [
    "### An anagram is a word or phrase formed by rearranging the letters of a different word or phrase, typically using all the original letters exactly once."
   ],
   "cell_type": "markdown",
   "metadata": {}
  },
  {
   "cell_type": "code",
   "execution_count": 7,
   "metadata": {},
   "outputs": [
    {
     "output_type": "stream",
     "name": "stdout",
     "text": [
      "'silent' & 'listen' are Anagrams.\n"
     ]
    }
   ],
   "source": [
    "z, y = input(), input()\n",
    "if sorted(z) == sorted(y):\n",
    "     print(\"'{}' & '{}' are Anagrams.\".format(z, y))\n",
    "else:\n",
    "    print(\"'{}' & '{}' are not Anagrams.\".format(z, y))"
   ]
  },
  {
   "source": [
    "## Question 4"
   ],
   "cell_type": "markdown",
   "metadata": {}
  },
  {
   "cell_type": "code",
   "execution_count": 9,
   "metadata": {},
   "outputs": [
    {
     "output_type": "stream",
     "name": "stdout",
     "text": [
      "Original String is:  Dr. Darshan Ingle @AI-ML Trainer\nRevised string is: drdarshaningleaimltrainer\n"
     ]
    }
   ],
   "source": [
    "bad_char: list = ['!', '@', '#', ' ', ',', '.', ';', ':', '/', '?', '$', '%', '^', '&', '*', '(', ')', '-', '_', '=', '+',\n",
    "            '{', '}', '[', ']', \"'\", '\"']\n",
    "user_inp: str = input()\n",
    "print(\"Original String is: \", user_inp)\n",
    "for i in bad_char : \n",
    "    user_inp = user_inp.replace(i, '') \n",
    "print(\"Revised string is:\", user_inp.lower())"
   ]
  }
 ]
}