{
 "metadata": {
  "language_info": {
   "codemirror_mode": {
    "name": "ipython",
    "version": 3
   },
   "file_extension": ".py",
   "mimetype": "text/x-python",
   "name": "python",
   "nbconvert_exporter": "python",
   "pygments_lexer": "ipython3",
   "version": "3.9.5"
  },
  "orig_nbformat": 4,
  "kernelspec": {
   "name": "python3",
   "display_name": "Python 3.9.5 64-bit"
  },
  "interpreter": {
   "hash": "98c48560722b6f04fbdad6d56d402028edd5edd48f68ca23ac647c841b849345"
  }
 },
 "nbformat": 4,
 "nbformat_minor": 2,
 "cells": [
  {
   "source": [
    "# Assignment 03"
   ],
   "cell_type": "markdown",
   "metadata": {}
  },
  {
   "source": [
    "### For Questions refer [README](https://github.com/DSAghicha/LU-AI-ML/blob/main/Day_03/README.md)"
   ],
   "cell_type": "markdown",
   "metadata": {}
  },
  {
   "source": [
    "## Question 1"
   ],
   "cell_type": "markdown",
   "metadata": {}
  },
  {
   "cell_type": "code",
   "execution_count": 2,
   "metadata": {},
   "outputs": [],
   "source": [
    "def complex_no(z1, z2):\n",
    "    return z1 - z2\n"
   ]
  },
  {
   "cell_type": "code",
   "execution_count": 7,
   "metadata": {},
   "outputs": [],
   "source": [
    "z1 = complex(int(input()), int(input()))\n",
    "z2 = complex(int(input()), int(input()))"
   ]
  },
  {
   "cell_type": "code",
   "execution_count": 8,
   "metadata": {},
   "outputs": [
    {
     "output_type": "stream",
     "name": "stdout",
     "text": [
      "Difference between the complex numbers is: (1+1j)\n"
     ]
    }
   ],
   "source": [
    "print(\"Difference between the complex numbers is:\", complex_no(z1, z2))"
   ]
  },
  {
   "source": [
    "## Question 2"
   ],
   "cell_type": "markdown",
   "metadata": {}
  },
  {
   "cell_type": "code",
   "execution_count": 9,
   "metadata": {},
   "outputs": [],
   "source": [
    "import math\n",
    "\n",
    "def fourth_root(num):\n",
    "    return math.sqrt(math.sqrt(num))"
   ]
  },
  {
   "cell_type": "code",
   "execution_count": 10,
   "metadata": {},
   "outputs": [
    {
     "output_type": "stream",
     "name": "stdout",
     "text": [
      "Fourth root of 16.0 is 2.0\n"
     ]
    }
   ],
   "source": [
    "num = float(input())\n",
    "print(\"Fourth root of {} is {}\".format(num, fourth_root(num)))"
   ]
  },
  {
   "source": [
    "## Question 3"
   ],
   "cell_type": "markdown",
   "metadata": {}
  },
  {
   "cell_type": "code",
   "execution_count": 11,
   "metadata": {},
   "outputs": [
    {
     "output_type": "stream",
     "name": "stdout",
     "text": [
      "First number is 4 and second number is 7\nFirst number is 7 and second number is 4\n"
     ]
    }
   ],
   "source": [
    "\n",
    "\n",
    "a = int(input())\n",
    "b = int(input())\n",
    "print(\"First number is {} and second number is {}\".format(a, b))\n",
    "temp = a\n",
    "a = b\n",
    "b = temp\n",
    "print(\"First number is {} and second number is {}\".format(a, b))\n",
    "\n"
   ]
  },
  {
   "source": [
    "## Question 4"
   ],
   "cell_type": "markdown",
   "metadata": {}
  },
  {
   "cell_type": "code",
   "execution_count": 1,
   "metadata": {},
   "outputs": [
    {
     "output_type": "stream",
     "name": "stdout",
     "text": [
      "First number is 4 and second number is 7\nFirst number is 7 and second number is 4\n"
     ]
    }
   ],
   "source": [
    "a = int(input())\n",
    "b = int(input())\n",
    "print(\"First number is {} and second number is {}\".format(a, b))\n",
    "a, b = b, a\n",
    "print(\"First number is {} and second number is {}\".format(a, b))"
   ]
  },
  {
   "source": [
    "## Question 5"
   ],
   "cell_type": "markdown",
   "metadata": {}
  },
  {
   "cell_type": "code",
   "execution_count": 2,
   "metadata": {},
   "outputs": [],
   "source": [
    "def fahrenheit(val):\n",
    "    return ((val - 32) * (5 / 9) + 273.15)\n",
    "\n",
    "    \n",
    "def celsius(val):\n",
    "    return ((val - 32) * (5 / 9))"
   ]
  },
  {
   "cell_type": "code",
   "execution_count": 3,
   "metadata": {},
   "outputs": [
    {
     "output_type": "stream",
     "name": "stdout",
     "text": [
      "100° farhenheit is 310.92777777777775° kelvin\n100° farhenheit is 37.77777777777778° celsius\n"
     ]
    }
   ],
   "source": [
    "val = int(input())\n",
    "print(\"{}° farhenheit is {}° kelvin\".format(val, fahrenheit(val)))\n",
    "print(\"{}° farhenheit is {}° celsius\".format(val, celsius(val)))"
   ]
  },
  {
   "source": [
    "## Question 6 "
   ],
   "cell_type": "markdown",
   "metadata": {}
  },
  {
   "cell_type": "code",
   "execution_count": 7,
   "metadata": {},
   "outputs": [
    {
     "output_type": "execute_result",
     "data": {
      "text/plain": [
       "str"
      ]
     },
     "metadata": {},
     "execution_count": 7
    }
   ],
   "source": [
    "# String\n",
    "\n",
    "type(\"Darshaan\")"
   ]
  },
  {
   "cell_type": "code",
   "execution_count": 4,
   "metadata": {},
   "outputs": [
    {
     "output_type": "execute_result",
     "data": {
      "text/plain": [
       "int"
      ]
     },
     "metadata": {},
     "execution_count": 4
    }
   ],
   "source": [
    "# Integer\n",
    "\n",
    "type(1324)"
   ]
  },
  {
   "cell_type": "code",
   "execution_count": 6,
   "metadata": {},
   "outputs": [
    {
     "output_type": "execute_result",
     "data": {
      "text/plain": [
       "float"
      ]
     },
     "metadata": {},
     "execution_count": 6
    }
   ],
   "source": [
    "# Float\n",
    "\n",
    "type(11.11)"
   ]
  },
  {
   "cell_type": "code",
   "execution_count": 10,
   "metadata": {},
   "outputs": [
    {
     "output_type": "execute_result",
     "data": {
      "text/plain": [
       "complex"
      ]
     },
     "metadata": {},
     "execution_count": 10
    }
   ],
   "source": [
    "# Complex\n",
    "\n",
    "type(1j)"
   ]
  },
  {
   "cell_type": "code",
   "execution_count": 8,
   "metadata": {},
   "outputs": [
    {
     "output_type": "execute_result",
     "data": {
      "text/plain": [
       "list"
      ]
     },
     "metadata": {},
     "execution_count": 8
    }
   ],
   "source": [
    "# List\n",
    "\n",
    "type([1, 2, 3, 4])"
   ]
  },
  {
   "cell_type": "code",
   "execution_count": 9,
   "metadata": {},
   "outputs": [
    {
     "output_type": "execute_result",
     "data": {
      "text/plain": [
       "tuple"
      ]
     },
     "metadata": {},
     "execution_count": 9
    }
   ],
   "source": [
    "# Tuple\n",
    "\n",
    "type((1, 2, 3, 4))"
   ]
  },
  {
   "cell_type": "code",
   "execution_count": 11,
   "metadata": {},
   "outputs": [
    {
     "output_type": "execute_result",
     "data": {
      "text/plain": [
       "range"
      ]
     },
     "metadata": {},
     "execution_count": 11
    }
   ],
   "source": [
    "# Range\n",
    "\n",
    "type(range(6))"
   ]
  },
  {
   "cell_type": "code",
   "execution_count": 13,
   "metadata": {},
   "outputs": [
    {
     "output_type": "execute_result",
     "data": {
      "text/plain": [
       "dict"
      ]
     },
     "metadata": {},
     "execution_count": 13
    }
   ],
   "source": [
    "# Dictionary\n",
    "\n",
    "type({1: \"cherry\", 2: \"apple\"})"
   ]
  },
  {
   "cell_type": "code",
   "execution_count": 14,
   "metadata": {},
   "outputs": [
    {
     "output_type": "execute_result",
     "data": {
      "text/plain": [
       "set"
      ]
     },
     "metadata": {},
     "execution_count": 14
    }
   ],
   "source": [
    "# Set\n",
    "\n",
    "type({\"apple\", \"banana\"})"
   ]
  },
  {
   "cell_type": "code",
   "execution_count": 15,
   "metadata": {},
   "outputs": [
    {
     "output_type": "execute_result",
     "data": {
      "text/plain": [
       "bool"
      ]
     },
     "metadata": {},
     "execution_count": 15
    }
   ],
   "source": [
    "# Boolean\n",
    "\n",
    "type(True)"
   ]
  },
  {
   "source": [
    "# Question 7"
   ],
   "cell_type": "markdown",
   "metadata": {}
  },
  {
   "source": [
    "- Creating GitHub Profile:\n",
    "    1. Go to [www.github.com](www.github.com).\n",
    "    1. If you are visiting for the first time you will be asked to Login/Sign Up.\n",
    "    1. Create a profile, verify email address and login.\n",
    "\n",
    "- Creating new repository:\n",
    "    1. In the left column, there is a button New. **Click on it.**\n",
    "    2. Entry repository name as Lets Upgrade AI ML and leave all other fields unchanged.\n",
    "    3. Click on Create repository.\n",
    "- In the repository, create folder *Day_{number}* & upload Assignment file(s) in this directory.\n",
    "- Submit the link of this directory in the assignment form and select the appropriate day number."
   ],
   "cell_type": "markdown",
   "metadata": {}
  }
 ]
}