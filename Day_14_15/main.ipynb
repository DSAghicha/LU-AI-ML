{
 "metadata": {
  "language_info": {
   "codemirror_mode": {
    "name": "ipython",
    "version": 3
   },
   "file_extension": ".py",
   "mimetype": "text/x-python",
   "name": "python",
   "nbconvert_exporter": "python",
   "pygments_lexer": "ipython3",
   "version": "3.9.5"
  },
  "orig_nbformat": 4,
  "kernelspec": {
   "name": "python3",
   "display_name": "Python 3.9.5 64-bit"
  },
  "interpreter": {
   "hash": "98c48560722b6f04fbdad6d56d402028edd5edd48f68ca23ac647c841b849345"
  }
 },
 "nbformat": 4,
 "nbformat_minor": 2,
 "cells": [
  {
   "source": [
    "# Assignment 06"
   ],
   "cell_type": "markdown",
   "metadata": {}
  },
  {
   "source": [
    "### For Questions refer [README](https://github.com/DSAghicha/LU-AI-ML/blob/main/Day_14_15/README.md)"
   ],
   "cell_type": "markdown",
   "metadata": {}
  },
  {
   "cell_type": "code",
   "execution_count": 1,
   "metadata": {},
   "outputs": [],
   "source": [
    "import numpy as np"
   ]
  },
  {
   "source": [
    "## Question 1"
   ],
   "cell_type": "markdown",
   "metadata": {}
  },
  {
   "cell_type": "code",
   "execution_count": 2,
   "metadata": {},
   "outputs": [
    {
     "output_type": "stream",
     "name": "stdout",
     "text": [
      "3x3x3 Array:\n[[[0.02312287 0.31690617 0.83350168]\n  [0.94745766 0.95186147 0.36231842]\n  [0.25099009 0.45191524 0.83127992]]\n\n [[0.26731617 0.61729208 0.1225446 ]\n  [0.12763776 0.54354718 0.40665795]\n  [0.78575899 0.61181512 0.24606757]]\n\n [[0.8209315  0.67355406 0.96275882]\n  [0.72997445 0.24813563 0.77493944]\n  [0.96604354 0.26690764 0.99241153]]]\n"
     ]
    }
   ],
   "source": [
    "print(\"3x3x3 Array:\")\n",
    "print(np.random.rand(3, 3, 3))"
   ]
  },
  {
   "source": [
    "## Question 2"
   ],
   "cell_type": "markdown",
   "metadata": {}
  },
  {
   "cell_type": "code",
   "execution_count": 3,
   "metadata": {},
   "outputs": [
    {
     "output_type": "stream",
     "name": "stdout",
     "text": [
      "Required matrix is:\n[[0 0 0 0 0]\n [1 0 0 0 0]\n [0 2 0 0 0]\n [0 0 3 0 0]\n [0 0 0 4 0]]\n"
     ]
    }
   ],
   "source": [
    "print(\"Required matrix is:\")\n",
    "print(np.diag([1,2,3,4], k = -1))"
   ]
  },
  {
   "source": [
    "## Question 3"
   ],
   "cell_type": "markdown",
   "metadata": {}
  },
  {
   "cell_type": "code",
   "execution_count": 4,
   "metadata": {},
   "outputs": [],
   "source": [
    "def checkboard_pattern(n:int) -> list:\n",
    "    \"\"\"\n",
    "    Returns matrix in checkboard pattern for the provided size.\n",
    "    Black is represented as '1'\n",
    "    White is represented as '2'\n",
    "    Parameters:\n",
    "        n (int): Size of the Board.\n",
    "    Returns:\n",
    "        board (list): List of 0, 1 in checkboard pattern.\n",
    "    Raises:\n",
    "        TypeError if n is not an integer.\n",
    "    \"\"\"\n",
    "    if not type(n) is int:\n",
    "        raise TypeError(\"Board Size must be an integer!\")\n",
    "    board: list = []\n",
    "    for i in range(n):\n",
    "        if i % 2 == 0:\n",
    "            board.append(list(np.tile([0, 1], int(n/2))))\n",
    "        else:\n",
    "            board.append(list(np.tile([1,0], int(n/2))))\n",
    "    return board\n"
   ]
  },
  {
   "cell_type": "code",
   "execution_count": 5,
   "metadata": {},
   "outputs": [
    {
     "output_type": "stream",
     "name": "stdout",
     "text": [
      "8x8 matrix in checkboard pattern is:\n"
     ]
    },
    {
     "output_type": "execute_result",
     "data": {
      "text/plain": [
       "[[0, 1, 0, 1, 0, 1, 0, 1],\n",
       " [1, 0, 1, 0, 1, 0, 1, 0],\n",
       " [0, 1, 0, 1, 0, 1, 0, 1],\n",
       " [1, 0, 1, 0, 1, 0, 1, 0],\n",
       " [0, 1, 0, 1, 0, 1, 0, 1],\n",
       " [1, 0, 1, 0, 1, 0, 1, 0],\n",
       " [0, 1, 0, 1, 0, 1, 0, 1],\n",
       " [1, 0, 1, 0, 1, 0, 1, 0]]"
      ]
     },
     "metadata": {},
     "execution_count": 5
    }
   ],
   "source": [
    "print(\"8x8 matrix in checkboard pattern is:\")\n",
    "checkboard_pattern(8)"
   ]
  },
  {
   "source": [
    "## Question 4"
   ],
   "cell_type": "markdown",
   "metadata": {}
  },
  {
   "cell_type": "code",
   "execution_count": 6,
   "metadata": {},
   "outputs": [
    {
     "output_type": "stream",
     "name": "stdout",
     "text": [
      "[[0.95059281 0.85980107 0.45209374 0.89622149 0.93483327]\n [0.395384   0.24240373 0.07582887 0.62706438 0.44923671]\n [0.70459164 0.60839883 0.01644481 0.2571736  0.08058998]\n [0.64597052 0.86963451 0.43309941 0.22545099 0.09619433]\n [0.76748611 0.98875282 0.76397492 0.98167545 0.7410699 ]] \nis normalised to\n [[0.29527557 0.26707361 0.14043052 0.27838661 0.2903803 ]\n [0.12281519 0.07529607 0.02355416 0.19478034 0.13954306]\n [0.21886206 0.1889824  0.00510813 0.07988392 0.02503307]\n [0.20065302 0.2701281  0.13453045 0.07003017 0.02988013]\n [0.2383985  0.30712893 0.23730784 0.30493054 0.23019303]]\n"
     ]
    }
   ],
   "source": [
    "an_array = np.random.rand(5,5)\n",
    "norm = np.linalg.norm(an_array)\n",
    "print(an_array, \"\\nis normalised to\\n\", an_array / norm)"
   ]
  },
  {
   "source": [
    "## Question 5"
   ],
   "cell_type": "markdown",
   "metadata": {}
  },
  {
   "cell_type": "code",
   "execution_count": 7,
   "metadata": {},
   "outputs": [],
   "source": [
    "def common_val(arr1, arr2):\n",
    "    return np.intersect1d(arr1, arr2)\n"
   ]
  },
  {
   "cell_type": "code",
   "execution_count": 8,
   "metadata": {},
   "outputs": [
    {
     "output_type": "stream",
     "name": "stdout",
     "text": [
      "Common values in [0, 10, 20, 40, 60] & [10, 30, 20] is [10 20]\n"
     ]
    }
   ],
   "source": [
    "arr1 = [0, 10, 20, 40, 60]\n",
    "arr2 = [10, 30, 20]\n",
    "print(f\"Common values in {arr1} & {arr2} is { common_val(arr1, arr2)}\")"
   ]
  },
  {
   "source": [
    "## Question 6"
   ],
   "cell_type": "markdown",
   "metadata": {}
  },
  {
   "cell_type": "code",
   "execution_count": 9,
   "metadata": {},
   "outputs": [
    {
     "output_type": "stream",
     "name": "stdout",
     "text": [
      "Today is: 26-06-2021\nYesterday was: 25-06-2021\nTomorrow will be: 27-06-2021\n"
     ]
    }
   ],
   "source": [
    "import datetime\n",
    "\n",
    "\n",
    "today = datetime.date.today()\n",
    "one = datetime.timedelta(days=1)\n",
    "\n",
    "print(\"Today is:\", today.strftime(\"%d-%m-%Y\"))\n",
    "print(\"Yesterday was:\", (today - one).strftime(\"%d-%m-%Y\"))\n",
    "print(\"Tomorrow will be:\", (today + one).strftime(\"%d-%m-%Y\"))\n"
   ]
  },
  {
   "source": [
    "## Question 7"
   ],
   "cell_type": "markdown",
   "metadata": {}
  },
  {
   "cell_type": "code",
   "execution_count": 10,
   "metadata": {},
   "outputs": [
    {
     "output_type": "stream",
     "name": "stdout",
     "text": [
      "[[0.79908813 0.78826349]\n [0.77621615 0.40469198]] \n!=\n [[0.22853519 0.93037382]\n [0.72312219 0.13495272]]\n"
     ]
    }
   ],
   "source": [
    "arr1 = np.random.rand(2,2)\n",
    "arr2 = np.random.rand(2,2)\n",
    "if np.array_equal(arr1, arr2):\n",
    "    print (arr1, \"\\n==\\n\", arr2)\n",
    "else:\n",
    "    print(arr1, \"\\n!=\\n\", arr2)"
   ]
  },
  {
   "source": [
    "## Question 8"
   ],
   "cell_type": "markdown",
   "metadata": {}
  },
  {
   "cell_type": "code",
   "execution_count": 11,
   "metadata": {},
   "outputs": [
    {
     "output_type": "stream",
     "name": "stdout",
     "text": [
      "Vector is: [0.33978032 0.11569839 0.68184544 0.65303493 0.99642486 0.51857829\n 0.09710229 0.12516252 0.03693943 0.72314824]\nMaximum value is: 0.9964248552293469\nRevised vector is: [0.33978032 0.11569839 0.68184544 0.65303493 0.         0.51857829\n 0.09710229 0.12516252 0.03693943 0.72314824]\n"
     ]
    }
   ],
   "source": [
    "vector = np.random.random(10)\n",
    "print(\"Vector is:\", vector)\n",
    "\n",
    "vmax = vector.max()\n",
    "print(\"Maximum value is:\", vmax)\n",
    "\n",
    "vector[vector.argmax()] = 0\n",
    "\n",
    "print(\"Revised vector is:\", vector)"
   ]
  },
  {
   "source": [
    "## Question 9"
   ],
   "cell_type": "markdown",
   "metadata": {}
  },
  {
   "cell_type": "code",
   "execution_count": 12,
   "metadata": {},
   "outputs": [
    {
     "output_type": "stream",
     "name": "stdout",
     "text": [
      "[0.25395345 0.89071168 0.01631228 0.94276291 0.23829473 0.94174778\n 0.55402426 0.31692647 0.5397035  0.61877337 0.9532497  0.35147154\n 0.24002864 0.78073488 0.65504566 0.82640899 0.53509142 0.19481595\n 0.01705869 0.94077686]\n"
     ]
    }
   ],
   "source": [
    "arr = np.random.random(20)\n",
    "np.set_printoptions(threshold=np.inf)\n",
    "print(arr)"
   ]
  },
  {
   "source": [
    "## Question 10"
   ],
   "cell_type": "markdown",
   "metadata": {}
  },
  {
   "cell_type": "code",
   "execution_count": 13,
   "metadata": {},
   "outputs": [
    {
     "output_type": "stream",
     "name": "stdout",
     "text": [
      "Original Array is\n [[0.12870166 0.77202932]\n [0.48167653 0.71084489]\n [0.26184914 0.2061139 ]]\nArray after subtracting each row by its mean is:\n [[-0.32166383  0.32166383]\n [-0.11458418  0.11458418]\n [ 0.02786762 -0.02786762]]\n"
     ]
    }
   ],
   "source": [
    "arr = np.random.rand(3, 2)\n",
    "print(\"Original Array is\\n\", arr)\n",
    "print(\"Array after subtracting each row by its mean is:\\n\", arr - arr.mean(axis=1, keepdims=True))"
   ]
  },
  {
   "source": [
    "# Question 11"
   ],
   "cell_type": "markdown",
   "metadata": {}
  },
  {
   "cell_type": "code",
   "execution_count": 14,
   "metadata": {},
   "outputs": [
    {
     "output_type": "stream",
     "name": "stdout",
     "text": [
      "[4. 2. 1. 1. 1. 2. 1. 4. 2. 2.]\n"
     ]
    }
   ],
   "source": [
    "arr = np.random.randint(10, size=10)\n",
    "one_arr = np.ones(10)\n",
    "one_arr += np.bincount(arr)\n",
    "print(one_arr)"
   ]
  },
  {
   "source": [
    "## Question 12"
   ],
   "cell_type": "markdown",
   "metadata": {}
  },
  {
   "cell_type": "code",
   "execution_count": 15,
   "metadata": {},
   "outputs": [
    {
     "output_type": "stream",
     "name": "stdout",
     "text": [
      "Array A:\n[[0.60414332 0.22039772]\n [0.61051119 0.8769523 ]]\nArray B:\n[[0.92826986 0.56489622]\n [0.05438117 0.95497851]]\nTheir Dot Product:\n [[0.57279352 0.55175337]\n [0.61440883 1.18234608]]\nIts diagonal is: [0.57279352 1.18234608]\n"
     ]
    }
   ],
   "source": [
    "arr1 = np.random.rand(2,2)\n",
    "arr2 = np.random.rand(2,2)\n",
    "arr_dot = np.dot(arr1, arr2)\n",
    "\n",
    "print(f\"Array A:\\n{arr1}\\nArray B:\\n{arr2}\")\n",
    "print(\"Their Dot Product:\\n\", arr_dot)\n",
    "print(\"Its diagonal is:\", np.diag(arr_dot))"
   ]
  },
  {
   "source": [
    "## Question 13"
   ],
   "cell_type": "markdown",
   "metadata": {}
  },
  {
   "cell_type": "code",
   "execution_count": 16,
   "metadata": {},
   "outputs": [
    {
     "output_type": "stream",
     "name": "stdout",
     "text": [
      "Array is: [6 3 3 9 9 5 1 7 9 3 5 2 8 6 9 5 0 2 9 5]\nMost Frequent value(s): 9\nNumber of occurence(s): 5\n"
     ]
    }
   ],
   "source": [
    "arr = np.random.randint(10, size= 20)\n",
    "freq_val = np.bincount(arr).argmax()\n",
    "print(\"Array is:\", arr)\n",
    "print(\"Most Frequent value(s):\", freq_val)\n",
    "print(\"Number of occurence(s):\", np.count_nonzero(arr== freq_val))"
   ]
  },
  {
   "source": [
    "## Question 14"
   ],
   "cell_type": "markdown",
   "metadata": {}
  },
  {
   "cell_type": "code",
   "execution_count": 17,
   "metadata": {},
   "outputs": [],
   "source": [
    "def largest_val(arr, count):\n",
    "    \"\"\"\n",
    "    Returns array of n largest values\n",
    "    Parameters:\n",
    "        arr (ndarray): Primary Array\n",
    "        count (int): Number of values required\n",
    "    Returns:\n",
    "        arr (1darray): Array of n largest values.\n",
    "    \"\"\"\n",
    "    sorted_arr = arr[np.argsort(arr)]\n",
    "\n",
    "    return sorted_arr[-count:]"
   ]
  },
  {
   "cell_type": "code",
   "execution_count": 18,
   "metadata": {},
   "outputs": [
    {
     "output_type": "stream",
     "name": "stdout",
     "text": [
      "5 largest values of [8376 8122 3680 3163 3435 3839 7998 5286 9072 6426 8152 1739 1468 5108\n 4361 9572 7599 5596 5671 5269] are [8122 8152 8376 9072 9572]\n"
     ]
    }
   ],
   "source": [
    "arr = np.random.randint(10000, size= 20)\n",
    "count = 5\n",
    "print(f\"{count} largest values of {arr} are {(largest_val(arr, count))}\")"
   ]
  },
  {
   "source": [
    "## Question 15"
   ],
   "cell_type": "markdown",
   "metadata": {}
  },
  {
   "cell_type": "code",
   "execution_count": 19,
   "metadata": {},
   "outputs": [
    {
     "output_type": "stream",
     "name": "stdout",
     "text": [
      "Regular Array: <class 'numpy.ndarray'>\n[[0.93672867 0.91698832 0.06765651 0.74428766]\n [0.61381611 0.46348167 0.34270945 0.91643554]]\nRecord Array: <class 'numpy.recarray'>\n[[0.93672867 0.91698832 0.06765651 0.74428766]\n [0.61381611 0.46348167 0.34270945 0.91643554]]\n"
     ]
    }
   ],
   "source": [
    "arr = np.random.rand(2,4)\n",
    "rec_arr = np.rec.array(arr)\n",
    "print(f\"Regular Array: {type(arr)}\\n{arr}\")\n",
    "print(f\"Record Array: {type(rec_arr)}\\n{rec_arr}\")"
   ]
  }
 ]
}