{
 "cells": [
  {
   "cell_type": "markdown",
   "metadata": {},
   "source": [
    "# Assignment 14-15"
   ]
  },
  {
   "cell_type": "markdown",
   "metadata": {},
   "source": [
    "### For Questions refer [README](https://github.com/DSAghicha/LU-AI-ML/blob/main/Day_14_15/README.md)"
   ]
  },
  {
   "cell_type": "code",
   "execution_count": 1,
   "metadata": {},
   "outputs": [],
   "source": [
    "import numpy as np"
   ]
  },
  {
   "cell_type": "markdown",
   "metadata": {},
   "source": [
    "## Question 1"
   ]
  },
  {
   "cell_type": "code",
   "execution_count": 2,
   "metadata": {},
   "outputs": [
    {
     "name": "stdout",
     "output_type": "stream",
     "text": [
      "3x3x3 Array:\n",
      "[[[0.29877528 0.40116043 0.52022592]\n",
      "  [0.7977934  0.44545402 0.13108539]\n",
      "  [0.63081546 0.27429006 0.56005728]]\n",
      "\n",
      " [[0.92309824 0.40290379 0.50648665]\n",
      "  [0.71576241 0.44575146 0.81532602]\n",
      "  [0.89166425 0.11591158 0.47468811]]\n",
      "\n",
      " [[0.25276391 0.99178876 0.44501389]\n",
      "  [0.38455469 0.82480168 0.70538534]\n",
      "  [0.05212343 0.86537914 0.19455704]]]\n"
     ]
    }
   ],
   "source": [
    "print(\"3x3x3 Array:\")\n",
    "print(np.random.rand(3, 3, 3))"
   ]
  },
  {
   "cell_type": "markdown",
   "metadata": {},
   "source": [
    "## Question 2"
   ]
  },
  {
   "cell_type": "code",
   "execution_count": 3,
   "metadata": {},
   "outputs": [
    {
     "name": "stdout",
     "output_type": "stream",
     "text": [
      "Required matrix is:\n",
      "[[0 0 0 0 0]\n",
      " [1 0 0 0 0]\n",
      " [0 2 0 0 0]\n",
      " [0 0 3 0 0]\n",
      " [0 0 0 4 0]]\n"
     ]
    }
   ],
   "source": [
    "print(\"Required matrix is:\")\n",
    "print(np.diag([1,2,3,4], k = -1))"
   ]
  },
  {
   "cell_type": "markdown",
   "metadata": {},
   "source": [
    "## Question 3"
   ]
  },
  {
   "cell_type": "code",
   "execution_count": 4,
   "metadata": {},
   "outputs": [],
   "source": [
    "def checkboard_pattern(n:int) -> list:\r\n",
    "    \"\"\"\r\n",
    "    Returns matrix in checkboard pattern for the provided size.\r\n",
    "    Black is represented as '1'\r\n",
    "    White is represented as '0'\r\n",
    "    Parameters:\r\n",
    "        n (int): Size of the Board.\r\n",
    "    Returns:\r\n",
    "        board (list): List of 0, 1 in checkboard pattern.\r\n",
    "    Raises:\r\n",
    "        TypeError if n is not an integer.\r\n",
    "    \"\"\"\r\n",
    "    if not type(n) is int:\r\n",
    "        raise TypeError(\"Board Size must be an integer!\")\r\n",
    "    board: list = []\r\n",
    "    for i in range(n):\r\n",
    "        if i % 2 == 0:\r\n",
    "            board.append(list(np.tile([0, 1], int(n/2))))\r\n",
    "        else:\r\n",
    "            board.append(list(np.tile([1,0], int(n/2))))\r\n",
    "    return board\r\n"
   ]
  },
  {
   "cell_type": "code",
   "execution_count": 5,
   "metadata": {},
   "outputs": [
    {
     "name": "stdout",
     "output_type": "stream",
     "text": [
      "8x8 matrix in checkboard pattern is:\n"
     ]
    },
    {
     "data": {
      "text/plain": [
       "[[0, 1, 0, 1, 0, 1, 0, 1],\n",
       " [1, 0, 1, 0, 1, 0, 1, 0],\n",
       " [0, 1, 0, 1, 0, 1, 0, 1],\n",
       " [1, 0, 1, 0, 1, 0, 1, 0],\n",
       " [0, 1, 0, 1, 0, 1, 0, 1],\n",
       " [1, 0, 1, 0, 1, 0, 1, 0],\n",
       " [0, 1, 0, 1, 0, 1, 0, 1],\n",
       " [1, 0, 1, 0, 1, 0, 1, 0]]"
      ]
     },
     "execution_count": 5,
     "metadata": {},
     "output_type": "execute_result"
    }
   ],
   "source": [
    "print(\"8x8 matrix in checkboard pattern is:\")\n",
    "checkboard_pattern(8)"
   ]
  },
  {
   "cell_type": "markdown",
   "metadata": {},
   "source": [
    "## Question 4"
   ]
  },
  {
   "cell_type": "code",
   "execution_count": 6,
   "metadata": {},
   "outputs": [
    {
     "name": "stdout",
     "output_type": "stream",
     "text": [
      "[[0.14458288 0.0544317  0.61732233 0.14326998 0.44004541]\n",
      " [0.32360761 0.29348325 0.74508068 0.44226839 0.29727925]\n",
      " [0.25344552 0.87961044 0.66024484 0.4262512  0.39363694]\n",
      " [0.76893877 0.36741479 0.09132652 0.3605073  0.05532379]\n",
      " [0.00108785 0.59283635 0.96394606 0.53071494 0.83304552]] \n",
      "is normalised to\n",
      " [[0.05722518 0.0215438  0.24433311 0.05670554 0.17416778]\n",
      " [0.12808228 0.11615921 0.29489923 0.17504763 0.11766165]\n",
      " [0.10031248 0.34814544 0.26132162 0.1687081  0.15579954]\n",
      " [0.30434214 0.14542095 0.03614658 0.14268699 0.02189688]\n",
      " [0.00043057 0.23464168 0.38152505 0.21005433 0.32971527]]\n"
     ]
    }
   ],
   "source": [
    "an_array = np.random.rand(5,5)\n",
    "norm = np.linalg.norm(an_array)\n",
    "print(an_array, \"\\nis normalised to\\n\", an_array / norm)"
   ]
  },
  {
   "cell_type": "markdown",
   "metadata": {},
   "source": [
    "## Question 5"
   ]
  },
  {
   "cell_type": "code",
   "execution_count": 7,
   "metadata": {},
   "outputs": [],
   "source": [
    "def common_val(arr1, arr2):\n",
    "    return np.intersect1d(arr1, arr2)\n"
   ]
  },
  {
   "cell_type": "code",
   "execution_count": 8,
   "metadata": {},
   "outputs": [
    {
     "name": "stdout",
     "output_type": "stream",
     "text": [
      "Common values in [0, 10, 20, 40, 60] & [10, 30, 20] is [10 20]\n"
     ]
    }
   ],
   "source": [
    "arr1 = [0, 10, 20, 40, 60]\n",
    "arr2 = [10, 30, 20]\n",
    "print(f\"Common values in {arr1} & {arr2} is { common_val(arr1, arr2)}\")"
   ]
  },
  {
   "cell_type": "markdown",
   "metadata": {},
   "source": [
    "## Question 6"
   ]
  },
  {
   "cell_type": "code",
   "execution_count": 9,
   "metadata": {},
   "outputs": [
    {
     "name": "stdout",
     "output_type": "stream",
     "text": [
      "Today is: 26-06-2021\n",
      "Yesterday was: 25-06-2021\n",
      "Tomorrow will be: 27-06-2021\n"
     ]
    }
   ],
   "source": [
    "import datetime\n",
    "\n",
    "\n",
    "today = datetime.date.today()\n",
    "one = datetime.timedelta(days=1)\n",
    "\n",
    "print(\"Today is:\", today.strftime(\"%d-%m-%Y\"))\n",
    "print(\"Yesterday was:\", (today - one).strftime(\"%d-%m-%Y\"))\n",
    "print(\"Tomorrow will be:\", (today + one).strftime(\"%d-%m-%Y\"))\n"
   ]
  },
  {
   "cell_type": "markdown",
   "metadata": {},
   "source": [
    "## Question 7"
   ]
  },
  {
   "cell_type": "code",
   "execution_count": 10,
   "metadata": {},
   "outputs": [
    {
     "name": "stdout",
     "output_type": "stream",
     "text": [
      "[[0.50815088 0.90763155]\n",
      " [0.6914485  0.29197157]] \n",
      "!=\n",
      " [[0.23488256 0.03005815]\n",
      " [0.05287262 0.0535312 ]]\n"
     ]
    }
   ],
   "source": [
    "arr1 = np.random.rand(2,2)\n",
    "arr2 = np.random.rand(2,2)\n",
    "if np.array_equal(arr1, arr2):\n",
    "    print (arr1, \"\\n==\\n\", arr2)\n",
    "else:\n",
    "    print(arr1, \"\\n!=\\n\", arr2)"
   ]
  },
  {
   "cell_type": "markdown",
   "metadata": {},
   "source": [
    "## Question 8"
   ]
  },
  {
   "cell_type": "code",
   "execution_count": 11,
   "metadata": {},
   "outputs": [
    {
     "name": "stdout",
     "output_type": "stream",
     "text": [
      "Vector is: [0.65966243 0.41039519 0.90832133 0.73682862 0.36983286 0.33494025\n",
      " 0.43345716 0.90064695 0.13621604 0.41592413]\n",
      "Maximum value is: 0.9083213262581227\n",
      "Revised vector is: [0.65966243 0.41039519 0.         0.73682862 0.36983286 0.33494025\n",
      " 0.43345716 0.90064695 0.13621604 0.41592413]\n"
     ]
    }
   ],
   "source": [
    "vector = np.random.random(10)\n",
    "print(\"Vector is:\", vector)\n",
    "\n",
    "vmax = vector.max()\n",
    "print(\"Maximum value is:\", vmax)\n",
    "\n",
    "vector[vector.argmax()] = 0\n",
    "\n",
    "print(\"Revised vector is:\", vector)"
   ]
  },
  {
   "cell_type": "markdown",
   "metadata": {},
   "source": [
    "## Question 9"
   ]
  },
  {
   "cell_type": "code",
   "execution_count": 12,
   "metadata": {},
   "outputs": [
    {
     "name": "stdout",
     "output_type": "stream",
     "text": [
      "[0.4751773  0.45308792 0.27967273 0.86017075 0.03224136 0.78706278\n",
      " 0.55975372 0.17829588 0.49104312 0.65249344 0.92315312 0.5386876\n",
      " 0.35713295 0.42804093 0.03654276 0.14226405 0.79037056 0.97445073\n",
      " 0.6798679  0.70888104]\n"
     ]
    }
   ],
   "source": [
    "arr = np.random.random(20)\n",
    "np.set_printoptions(threshold=np.inf)\n",
    "print(arr)"
   ]
  },
  {
   "cell_type": "markdown",
   "metadata": {},
   "source": [
    "## Question 10"
   ]
  },
  {
   "cell_type": "code",
   "execution_count": 13,
   "metadata": {},
   "outputs": [
    {
     "name": "stdout",
     "output_type": "stream",
     "text": [
      "Original Array is\n",
      " [[0.72995822 0.18510617]\n",
      " [0.7819348  0.70711961]\n",
      " [0.91429956 0.84061199]]\n",
      "Array after subtracting each row by its mean is:\n",
      " [[ 0.27242603 -0.27242603]\n",
      " [ 0.0374076  -0.0374076 ]\n",
      " [ 0.03684379 -0.03684379]]\n"
     ]
    }
   ],
   "source": [
    "arr = np.random.rand(3, 2)\n",
    "print(\"Original Array is\\n\", arr)\n",
    "print(\"Array after subtracting each row by its mean is:\\n\", arr - arr.mean(axis=1, keepdims=True))"
   ]
  },
  {
   "cell_type": "markdown",
   "metadata": {},
   "source": [
    "# Question 11"
   ]
  },
  {
   "cell_type": "code",
   "execution_count": 14,
   "metadata": {},
   "outputs": [
    {
     "name": "stdout",
     "output_type": "stream",
     "text": [
      "[2. 3. 1. 2. 1. 1. 4. 2. 1. 3.]\n"
     ]
    }
   ],
   "source": [
    "arr = np.random.randint(10, size=10)\n",
    "one_arr = np.ones(10)\n",
    "one_arr += np.bincount(arr)\n",
    "print(one_arr)"
   ]
  },
  {
   "cell_type": "markdown",
   "metadata": {},
   "source": [
    "## Question 12"
   ]
  },
  {
   "cell_type": "code",
   "execution_count": 15,
   "metadata": {},
   "outputs": [
    {
     "name": "stdout",
     "output_type": "stream",
     "text": [
      "Array A:\n",
      "[[0.97946337 0.75661806]\n",
      " [0.7618353  0.73696886]]\n",
      "Array B:\n",
      "[[0.59884417 0.28384758]\n",
      " [0.63538761 0.32079702]]\n",
      "Their Dot Product:\n",
      " [[1.06729167 0.52073912]\n",
      " [0.92448151 0.45266252]]\n",
      "Its diagonal is: [1.06729167 0.45266252]\n"
     ]
    }
   ],
   "source": [
    "arr1 = np.random.rand(2,2)\n",
    "arr2 = np.random.rand(2,2)\n",
    "arr_dot = np.dot(arr1, arr2)\n",
    "\n",
    "print(f\"Array A:\\n{arr1}\\nArray B:\\n{arr2}\")\n",
    "print(\"Their Dot Product:\\n\", arr_dot)\n",
    "print(\"Its diagonal is:\", np.diag(arr_dot))"
   ]
  },
  {
   "cell_type": "markdown",
   "metadata": {},
   "source": [
    "## Question 13"
   ]
  },
  {
   "cell_type": "code",
   "execution_count": 16,
   "metadata": {},
   "outputs": [
    {
     "name": "stdout",
     "output_type": "stream",
     "text": [
      "Array is: [6 8 8 6 4 3 3 8 0 9 0 3 2 5 1 4 3 0 5 0]\n",
      "Most Frequent value(s): 0\n",
      "Number of occurence(s): 4\n"
     ]
    }
   ],
   "source": [
    "arr = np.random.randint(10, size= 20)\n",
    "freq_val = np.bincount(arr).argmax()\n",
    "print(\"Array is:\", arr)\n",
    "print(\"Most Frequent value(s):\", freq_val)\n",
    "print(\"Number of occurence(s):\", np.count_nonzero(arr== freq_val))"
   ]
  },
  {
   "cell_type": "markdown",
   "metadata": {},
   "source": [
    "## Question 14"
   ]
  },
  {
   "cell_type": "code",
   "execution_count": 17,
   "metadata": {},
   "outputs": [],
   "source": [
    "def largest_val(arr, count):\n",
    "    \"\"\"\n",
    "    Returns array of n largest values\n",
    "    Parameters:\n",
    "        arr (ndarray): Primary Array\n",
    "        count (int): Number of values required\n",
    "    Returns:\n",
    "        arr (1darray): Array of n largest values.\n",
    "    \"\"\"\n",
    "    sorted_arr = arr[np.argsort(arr)]\n",
    "\n",
    "    return sorted_arr[-count:]"
   ]
  },
  {
   "cell_type": "code",
   "execution_count": 18,
   "metadata": {},
   "outputs": [
    {
     "name": "stdout",
     "output_type": "stream",
     "text": [
      "5 largest values of [3613  742  375 6083 1549 8948 3270 7778 3668 5085 1875  851 2669 8242\n",
      " 5618 1408 7019 7190 2620 6349] are [7019 7190 7778 8242 8948]\n"
     ]
    }
   ],
   "source": [
    "arr = np.random.randint(10000, size= 20)\n",
    "count = 5\n",
    "print(f\"{count} largest values of {arr} are {(largest_val(arr, count))}\")"
   ]
  },
  {
   "cell_type": "markdown",
   "metadata": {},
   "source": [
    "## Question 15"
   ]
  },
  {
   "cell_type": "code",
   "execution_count": 19,
   "metadata": {},
   "outputs": [
    {
     "name": "stdout",
     "output_type": "stream",
     "text": [
      "Regular Array: <class 'numpy.ndarray'>\n",
      "[[0.53546537 0.67933706 0.43335985 0.89153642]\n",
      " [0.74195561 0.00145305 0.57057966 0.16034165]]\n",
      "Record Array: <class 'numpy.recarray'>\n",
      "[[0.53546537 0.67933706 0.43335985 0.89153642]\n",
      " [0.74195561 0.00145305 0.57057966 0.16034165]]\n"
     ]
    }
   ],
   "source": [
    "arr = np.random.rand(2,4)\n",
    "rec_arr = np.rec.array(arr)\n",
    "print(f\"Regular Array: {type(arr)}\\n{arr}\")\n",
    "print(f\"Record Array: {type(rec_arr)}\\n{rec_arr}\")"
   ]
  }
 ],
 "metadata": {
  "interpreter": {
   "hash": "98c48560722b6f04fbdad6d56d402028edd5edd48f68ca23ac647c841b849345"
  },
  "kernelspec": {
   "display_name": "Python 3.9.5 64-bit",
   "name": "python3"
  },
  "language_info": {
   "name": "python",
   "version": ""
  },
  "orig_nbformat": 4
 },
 "nbformat": 4,
 "nbformat_minor": 2
}