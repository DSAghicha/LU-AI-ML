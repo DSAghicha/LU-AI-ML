{
 "metadata": {
  "language_info": {
   "codemirror_mode": {
    "name": "ipython",
    "version": 3
   },
   "file_extension": ".py",
   "mimetype": "text/x-python",
   "name": "python",
   "nbconvert_exporter": "python",
   "pygments_lexer": "ipython3",
   "version": "3.9.5"
  },
  "orig_nbformat": 4,
  "kernelspec": {
   "name": "python3",
   "display_name": "Python 3.9.5 64-bit"
  },
  "interpreter": {
   "hash": "98c48560722b6f04fbdad6d56d402028edd5edd48f68ca23ac647c841b849345"
  }
 },
 "nbformat": 4,
 "nbformat_minor": 2,
 "cells": [
  {
   "source": [
    "# Assignment 06"
   ],
   "cell_type": "markdown",
   "metadata": {}
  },
  {
   "source": [
    "### For Questions refer [README](https://github.com/DSAghicha/LU-AI-ML/blob/main/Day_06/README.md)"
   ],
   "cell_type": "markdown",
   "metadata": {}
  },
  {
   "source": [
    "## Question 1"
   ],
   "cell_type": "markdown",
   "metadata": {}
  },
  {
   "cell_type": "code",
   "execution_count": 7,
   "metadata": {},
   "outputs": [
    {
     "output_type": "stream",
     "name": "stdout",
     "text": [
      "Email Address is  soe@google.com\nCompany name is google\n"
     ]
    }
   ],
   "source": [
    "user_inp: str = input()\n",
    "start: int = user_inp.find(\"@\") + 1\n",
    "end: int = user_inp.find(\".\")\n",
    "if end == 0 or end == -1:\n",
    "    print(\"Company not found!\")\n",
    "else:\n",
    "    print(\"Email Address is \", user_inp)\n",
    "    print(\"Company name is\", user_inp[start:end])"
   ]
  },
  {
   "source": [
    "## Question 2"
   ],
   "cell_type": "markdown",
   "metadata": {}
  },
  {
   "cell_type": "code",
   "execution_count": 11,
   "metadata": {},
   "outputs": [
    {
     "output_type": "stream",
     "name": "stdout",
     "text": [
      "Original List: ['without', 'hello', 'bag', 'world']\nSorted List ['bag', 'hello', 'without', 'world']\n"
     ]
    }
   ],
   "source": [
    "words: list = input().split(\",\")\n",
    "sorted_words: list = sorted(words)\n",
    "print(\"Original List:\", words)\n",
    "print(\"Sorted List\", sorted_words)"
   ]
  },
  {
   "source": [
    "## Question 3"
   ],
   "cell_type": "markdown",
   "metadata": {}
  },
  {
   "source": [
    "A set is an unordered collection of unique elements return with curly brackets. \n",
    "\n",
    "```example: set = {'apple', 'banana', 'grapes'}```.\n",
    "\n",
    "The sets does not have order or index. Hence, one cannot say the order in which the items might appear."
   ],
   "cell_type": "markdown",
   "metadata": {}
  },
  {
   "source": [
    "#### Common Usage of sets are:\n",
    "\n",
    "- Removing duplicates from a sequence .\n",
    "- Membership Testing.\n",
    "- Performing Mathematical Operations such as intersection, union, difference, and symmetric difference.\n",
    "\n",
    "**Since v2.6 SETS were deprecated and replaced with set/frozenset modules.**\n",
    "\n",
    "The **set** type is mutable i.e the contents can be changed using functions like add() & remove(). (Example 3)\n",
    "\n",
    "The **frozenset** type is immutable i.e the contents cannot be changed once it is created.\n",
    "\n",
    "Examples:"
   ],
   "cell_type": "markdown",
   "metadata": {}
  },
  {
   "cell_type": "code",
   "execution_count": 12,
   "metadata": {},
   "outputs": [
    {
     "output_type": "stream",
     "name": "stdout",
     "text": [
      "{'Ruby', 'C#', 'C++', 'C', 'Clojure', 'Python', 'Java'}\n<class 'set'>\n7\n"
     ]
    }
   ],
   "source": [
    "\"\"\"Example of a Set\"\"\"\n",
    "my_set: set = {\"Python\", \"C\", \"C++\", \"C#\", \"Ruby\", \"Java\", \"Clojure\"}\n",
    "print(my_set)\n",
    "print(type(my_set))\n",
    "print(len(my_set))"
   ]
  },
  {
   "cell_type": "code",
   "execution_count": 13,
   "metadata": {},
   "outputs": [
    {
     "output_type": "stream",
     "name": "stdout",
     "text": [
      "frozenset({'C#', 'Clojure', 'Ruby', 'C++', 'C', 'Python', 'Java'})\n"
     ]
    },
    {
     "output_type": "error",
     "ename": "AttributeError",
     "evalue": "'frozenset' object has no attribute 'add'",
     "traceback": [
      "\u001b[1;31m---------------------------------------------------------------------------\u001b[0m",
      "\u001b[1;31mAttributeError\u001b[0m                            Traceback (most recent call last)",
      "\u001b[1;32m<ipython-input-13-f0e987443b74>\u001b[0m in \u001b[0;36m<module>\u001b[1;34m\u001b[0m\n\u001b[0;32m      2\u001b[0m \u001b[0mfset\u001b[0m \u001b[1;33m=\u001b[0m \u001b[0mfrozenset\u001b[0m\u001b[1;33m(\u001b[0m \u001b[1;33m(\u001b[0m\u001b[1;34m\"Python\"\u001b[0m\u001b[1;33m,\u001b[0m \u001b[1;34m\"C\"\u001b[0m\u001b[1;33m,\u001b[0m \u001b[1;34m\"C++\"\u001b[0m\u001b[1;33m,\u001b[0m \u001b[1;34m\"C#\"\u001b[0m\u001b[1;33m,\u001b[0m \u001b[1;34m\"Ruby\"\u001b[0m\u001b[1;33m,\u001b[0m \u001b[1;34m\"Java\"\u001b[0m\u001b[1;33m,\u001b[0m \u001b[1;34m\"Clojure\"\u001b[0m\u001b[1;33m)\u001b[0m\u001b[1;33m)\u001b[0m\u001b[1;33m\u001b[0m\u001b[1;33m\u001b[0m\u001b[0m\n\u001b[0;32m      3\u001b[0m \u001b[0mprint\u001b[0m\u001b[1;33m(\u001b[0m\u001b[0mfset\u001b[0m\u001b[1;33m)\u001b[0m\u001b[1;33m\u001b[0m\u001b[1;33m\u001b[0m\u001b[0m\n\u001b[1;32m----> 4\u001b[1;33m \u001b[0mfset\u001b[0m\u001b[1;33m.\u001b[0m\u001b[0madd\u001b[0m\u001b[1;33m(\u001b[0m\u001b[1;34m\"Swift\"\u001b[0m\u001b[1;33m)\u001b[0m\u001b[1;33m\u001b[0m\u001b[1;33m\u001b[0m\u001b[0m\n\u001b[0m",
      "\u001b[1;31mAttributeError\u001b[0m: 'frozenset' object has no attribute 'add'"
     ]
    }
   ],
   "source": [
    "\"\"\"Example of Frozen Set\"\"\"\n",
    "fset = frozenset( (\"Python\", \"C\", \"C++\", \"C#\", \"Ruby\", \"Java\", \"Clojure\"))\n",
    "print(fset)\n",
    "fset.add(\"Swift\")"
   ]
  },
  {
   "source": [
    "∵ Sets don't have index using `[index_number]` index method.\n",
    "\n",
    "However, this can be done using for loop or one can access a specific element using in. Example:"
   ],
   "cell_type": "markdown",
   "metadata": {}
  },
  {
   "cell_type": "code",
   "execution_count": 14,
   "metadata": {},
   "outputs": [
    {
     "output_type": "stream",
     "name": "stdout",
     "text": [
      "Ruby\nC#\nC++\nC\nClojure\nPython\nJava\n**********\nFalse\nTrue\nFalse\n"
     ]
    }
   ],
   "source": [
    "\"\"\"2. Accessing elements of a set\"\"\"\n",
    "for elem in my_set:\n",
    "    print(elem)\n",
    "print(\"**********\")\n",
    "print(\"Swift\" in my_set)\n",
    "print(\"Ruby\" in my_set)\n",
    "print(\"ruby\" in my_set)  # ∵ Strings are case sensitive"
   ]
  },
  {
   "source": [
    "### Various functions associated with Sets\n",
    "\n",
    "set_name.add(\"element\") is used to add ONLY ONE element.\n",
    "\n",
    "set_name.update([\"element1\", \"element2\"]) is used to add MULTIPLE elements.\n",
    "\n",
    "set_name.remove(\"element\") & set_name.discard(\"element\") is used to remove an element.\n",
    "\n",
    "The remove() will RAISE an error while discard() DOES NOT.\n",
    "\n",
    "set_name.pop() will pop an element randomly.\n",
    "\n",
    "set_name.clear() will empty the set.\n",
    "\n",
    "del set_name will delete the set completely."
   ],
   "cell_type": "markdown",
   "metadata": {}
  },
  {
   "cell_type": "code",
   "execution_count": 15,
   "metadata": {},
   "outputs": [
    {
     "output_type": "stream",
     "name": "stdout",
     "text": [
      "{'Ruby', 'C#', 'C++', 'C', 'Clojure', 'Kotlin', 'Python', 'Java'}\n{'Ruby', 'C++', 'Kotlin', 'Python', 'Java', 'C#', 'Clojure', 'R', 'C', 'JavaScript', 'Swift'}\n{'Ruby', 'C++', 'Kotlin', 'Python', 'Java', 'C#', 'Clojure', 'R', 'C', 'Swift'}\n{'Ruby', 'C++', 'Kotlin', 'Python', 'Java', 'C#', 'Clojure', 'C', 'Swift'}\n{'C++', 'Kotlin', 'Python', 'Java', 'C#', 'Clojure', 'C', 'Swift'}\n{'C#', 'Clojure', 'C++', 'Swift', 'C', 'Kotlin', 'Python', 'Java'}\n"
     ]
    }
   ],
   "source": [
    "\"\"\" 3. Various functions associated with Sets\"\"\"\n",
    "my_set.add(\"Kotlin\")\n",
    "print(my_set)\n",
    "my_set.update([\"Swift\", \"R\", \"JavaScript\"])\n",
    "print(my_set)\n",
    "my_set.remove(\"JavaScript\")\n",
    "print(my_set)\n",
    "my_set.discard(\"R\")\n",
    "print(my_set)\n",
    "my_set.pop()\n",
    "print(my_set)\n",
    "my_set_2 = my_set.copy()\n",
    "print(my_set_2)"
   ]
  },
  {
   "cell_type": "code",
   "execution_count": 16,
   "metadata": {},
   "outputs": [
    {
     "output_type": "stream",
     "name": "stdout",
     "text": [
      "set()\n"
     ]
    },
    {
     "output_type": "error",
     "ename": "NameError",
     "evalue": "name 'my_set_2' is not defined",
     "traceback": [
      "\u001b[1;31m---------------------------------------------------------------------------\u001b[0m",
      "\u001b[1;31mNameError\u001b[0m                                 Traceback (most recent call last)",
      "\u001b[1;32m<ipython-input-16-ee709fd9c83a>\u001b[0m in \u001b[0;36m<module>\u001b[1;34m\u001b[0m\n\u001b[0;32m      2\u001b[0m \u001b[0mprint\u001b[0m\u001b[1;33m(\u001b[0m\u001b[0mmy_set_2\u001b[0m\u001b[1;33m)\u001b[0m\u001b[1;33m\u001b[0m\u001b[1;33m\u001b[0m\u001b[0m\n\u001b[0;32m      3\u001b[0m \u001b[1;32mdel\u001b[0m \u001b[0mmy_set_2\u001b[0m\u001b[1;33m\u001b[0m\u001b[1;33m\u001b[0m\u001b[0m\n\u001b[1;32m----> 4\u001b[1;33m \u001b[0mprint\u001b[0m\u001b[1;33m(\u001b[0m\u001b[0mmy_set_2\u001b[0m\u001b[1;33m)\u001b[0m\u001b[1;33m\u001b[0m\u001b[1;33m\u001b[0m\u001b[0m\n\u001b[0m",
      "\u001b[1;31mNameError\u001b[0m: name 'my_set_2' is not defined"
     ]
    }
   ],
   "source": [
    "my_set_2.clear()\n",
    "print(my_set_2)\n",
    "del my_set_2\n",
    "print(my_set_2)"
   ]
  },
  {
   "source": [
    "## Question 4"
   ],
   "cell_type": "markdown",
   "metadata": {}
  },
  {
   "cell_type": "code",
   "execution_count": 21,
   "metadata": {},
   "outputs": [
    {
     "output_type": "stream",
     "name": "stdout",
     "text": [
      "[1, 2, 4, 6, 3, 7, 8] has missing number: 5\n"
     ]
    }
   ],
   "source": [
    "my_list = [int(x) for x in input().split(\" \")]\n",
    "missing_no = ((len(my_list) + 1) * (len(my_list) + 2) / 2) - sum(my_list)\n",
    "print(\"{} has missing number: {}\".format(my_list, int(missing_no)))"
   ]
  },
  {
   "source": [
    "## Question 5"
   ],
   "cell_type": "markdown",
   "metadata": {}
  },
  {
   "cell_type": "code",
   "execution_count": 22,
   "metadata": {},
   "outputs": [
    {
     "output_type": "stream",
     "name": "stdout",
     "text": [
      "12 24 35 88 120 155\n"
     ]
    }
   ],
   "source": [
    "my_list = [int(x) for x in input().split(\" \")]\n",
    "unique_items = list(set(my_list))\n",
    "unique_items = sorted(unique_items)\n",
    "print(*unique_items, sep = \" \")"
   ]
  }
 ]
}